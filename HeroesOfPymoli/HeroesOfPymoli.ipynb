{
 "metadata": {
  "language_info": {
   "codemirror_mode": {
    "name": "ipython",
    "version": 3
   },
   "file_extension": ".py",
   "mimetype": "text/x-python",
   "name": "python",
   "nbconvert_exporter": "python",
   "pygments_lexer": "ipython3",
   "version": "3.6.10-final"
  },
  "orig_nbformat": 2,
  "kernelspec": {
   "name": "python_defaultSpec_1598034268654",
   "display_name": "Python 3.6.10 64-bit ('bcs': conda)"
  }
 },
 "nbformat": 4,
 "nbformat_minor": 2,
 "cells": [
  {
   "cell_type": "code",
   "execution_count": 3,
   "metadata": {},
   "outputs": [
    {
     "output_type": "execute_result",
     "data": {
      "text/plain": "   Purchase ID             SN  Age Gender  Item ID  \\\n0            0        Lisim78   20   Male      108   \n1            1    Lisovynya38   40   Male      143   \n2            2     Ithergue48   24   Male       92   \n3            3  Chamassasya86   24   Male      100   \n4            4      Iskosia90   23   Male      131   \n\n                                   Item Name  Price  \n0  Extraction, Quickblade Of Trembling Hands   3.53  \n1                          Frenzied Scimitar   1.56  \n2                               Final Critic   4.88  \n3                                Blindscythe   3.27  \n4                                       Fury   1.44  ",
      "text/html": "<div>\n<style scoped>\n    .dataframe tbody tr th:only-of-type {\n        vertical-align: middle;\n    }\n\n    .dataframe tbody tr th {\n        vertical-align: top;\n    }\n\n    .dataframe thead th {\n        text-align: right;\n    }\n</style>\n<table border=\"1\" class=\"dataframe\">\n  <thead>\n    <tr style=\"text-align: right;\">\n      <th></th>\n      <th>Purchase ID</th>\n      <th>SN</th>\n      <th>Age</th>\n      <th>Gender</th>\n      <th>Item ID</th>\n      <th>Item Name</th>\n      <th>Price</th>\n    </tr>\n  </thead>\n  <tbody>\n    <tr>\n      <th>0</th>\n      <td>0</td>\n      <td>Lisim78</td>\n      <td>20</td>\n      <td>Male</td>\n      <td>108</td>\n      <td>Extraction, Quickblade Of Trembling Hands</td>\n      <td>3.53</td>\n    </tr>\n    <tr>\n      <th>1</th>\n      <td>1</td>\n      <td>Lisovynya38</td>\n      <td>40</td>\n      <td>Male</td>\n      <td>143</td>\n      <td>Frenzied Scimitar</td>\n      <td>1.56</td>\n    </tr>\n    <tr>\n      <th>2</th>\n      <td>2</td>\n      <td>Ithergue48</td>\n      <td>24</td>\n      <td>Male</td>\n      <td>92</td>\n      <td>Final Critic</td>\n      <td>4.88</td>\n    </tr>\n    <tr>\n      <th>3</th>\n      <td>3</td>\n      <td>Chamassasya86</td>\n      <td>24</td>\n      <td>Male</td>\n      <td>100</td>\n      <td>Blindscythe</td>\n      <td>3.27</td>\n    </tr>\n    <tr>\n      <th>4</th>\n      <td>4</td>\n      <td>Iskosia90</td>\n      <td>23</td>\n      <td>Male</td>\n      <td>131</td>\n      <td>Fury</td>\n      <td>1.44</td>\n    </tr>\n  </tbody>\n</table>\n</div>"
     },
     "metadata": {},
     "execution_count": 3
    }
   ],
   "source": [
    "# Dependencies and Setup\n",
    "import pandas as pd\n",
    "\n",
    "# File to Load (Remember to Change These)\n",
    "file_to_load = \"Resources/purchase_data.csv\"\n",
    "\n",
    "# Read Purchasing File and store into Pandas data frame\n",
    "purchase_data = pd.read_csv(file_to_load)\n",
    "purchase_data.head()"
   ]
  },
  {
   "cell_type": "code",
   "execution_count": 11,
   "metadata": {
    "tags": []
   },
   "outputs": [
    {
     "output_type": "stream",
     "name": "stdout",
     "text": "Total players: 780.0\n"
    }
   ],
   "source": [
    "# Player Count\n",
    "# Find the Total Number of Players\n",
    "describe = purchase_data.describe()\n",
    "total_players = describe.iloc[0,0]\n",
    "print(f\"Total players: {total_players}\")"
   ]
  },
  {
   "cell_type": "code",
   "execution_count": 15,
   "metadata": {
    "tags": []
   },
   "outputs": [
    {
     "output_type": "stream",
     "name": "stdout",
     "text": "Number of Unique Items: 179\n"
    }
   ],
   "source": [
    "# Purchasing Analysis (total)\n",
    "# Find the number of unique items\n",
    "# Found the nunique() function here https://pandas.pydata.org/pandas-docs/stable/reference/api/pandas.Series.nunique.html\n",
    "unique_items = purchase_data[\"Item Name\"].nunique()\n",
    "print(f'Number of Unique Items: {unique_items}')"
   ]
  },
  {
   "cell_type": "code",
   "execution_count": 18,
   "metadata": {
    "tags": []
   },
   "outputs": [
    {
     "output_type": "stream",
     "name": "stdout",
     "text": "Average Purchase Price: $3.05\n"
    }
   ],
   "source": [
    "# Purchasing Analysis (total)\n",
    "# Average Purchase Price\n",
    "avg_price = round(purchase_data[\"Price\"].mean(),2)\n",
    "print(f'Average Purchase Price: ${avg_price}')"
   ]
  },
  {
   "cell_type": "code",
   "execution_count": 20,
   "metadata": {
    "tags": []
   },
   "outputs": [
    {
     "output_type": "stream",
     "name": "stdout",
     "text": "Total Number of Purchases: 780\n"
    }
   ],
   "source": [
    "# Purchasing Analysis (total)\n",
    "# Total Number of Purchases\n",
    "total_purchases = purchase_data['Purchase ID'].nunique()\n",
    "print(f'Total Number of Purchases: {total_purchases}')"
   ]
  },
  {
   "cell_type": "code",
   "execution_count": 21,
   "metadata": {
    "tags": []
   },
   "outputs": [
    {
     "output_type": "stream",
     "name": "stdout",
     "text": "Total Revenue: $2379.77\n"
    }
   ],
   "source": [
    "# Purchasing Analysis (total)\n",
    "# Total Revenue\n",
    "total_revenue = purchase_data['Price'].sum()\n",
    "print(f'Total Revenue: ${total_revenue}')"
   ]
  },
  {
   "cell_type": "code",
   "execution_count": 30,
   "metadata": {
    "tags": []
   },
   "outputs": [
    {
     "output_type": "stream",
     "name": "stdout",
     "text": "Count of Male Players: 652\nPercentage of Male Players: 83.59%\n"
    }
   ],
   "source": [
    "# Gender Demographics\n",
    "# Percentage and Count of Male Players\n",
    "male_data = purchase_data.loc[purchase_data[\"Gender\"] == 'Male',:]\n",
    "male_players = male_data['Purchase ID'].nunique()\n",
    "male_percentage = round((male_players/total_purchases) * 100,2)\n",
    "print(f'Count of Male Players: {male_players}')\n",
    "print(f'Percentage of Male Players: {male_percentage}%')"
   ]
  },
  {
   "cell_type": "code",
   "execution_count": 31,
   "metadata": {
    "tags": []
   },
   "outputs": [
    {
     "output_type": "stream",
     "name": "stdout",
     "text": "Count of Female Players: 113\nPercentage of Female Players: 14.49%\n"
    }
   ],
   "source": [
    "# Gender Demographics\n",
    "# Percentage and Count of Female Players\n",
    "female_data = purchase_data.loc[purchase_data[\"Gender\"] == 'Female',:]\n",
    "female_players = female_data['Purchase ID'].nunique()\n",
    "female_percentage = round((female_players/total_purchases) * 100,2)\n",
    "print(f'Count of Female Players: {female_players}')\n",
    "print(f'Percentage of Female Players: {female_percentage}%')"
   ]
  },
  {
   "cell_type": "code",
   "execution_count": 33,
   "metadata": {
    "tags": []
   },
   "outputs": [
    {
     "output_type": "stream",
     "name": "stdout",
     "text": "Count of Other/Non-Disclosed Players: 15\nPercentage of Other/Non-Disclosed Players: 1.92%\n"
    }
   ],
   "source": [
    "# Gender Demographics\n",
    "# Percentage and Count of Female Players\n",
    "other_data = purchase_data.loc[purchase_data[\"Gender\"] == 'Other / Non-Disclosed',:]\n",
    "other_players = other_data['Purchase ID'].nunique()\n",
    "other_percentage = round((other_players/total_purchases) * 100,2)\n",
    "print(f'Count of Other/Non-Disclosed Players: {other_players}')\n",
    "print(f'Percentage of Other/Non-Disclosed Players: {other_percentage}%')"
   ]
  },
  {
   "cell_type": "code",
   "execution_count": 37,
   "metadata": {
    "tags": []
   },
   "outputs": [
    {
     "output_type": "stream",
     "name": "stdout",
     "text": "Male Purchase Count: 652\nMale Average Purchase Price: $3.02\nMale Total Purchase Value: $1967.64\n"
    }
   ],
   "source": [
    "# Purchasing Analysis (Gender)\n",
    "# Male Purchase Count\n",
    "male_purchase_count = male_data['Purchase ID'].nunique()\n",
    "print(f'Male Purchase Count: {male_purchase_count}')\n",
    "# Male Average Purchase Price\n",
    "male_avg_price = round(male_data['Price'].mean(),2)\n",
    "print(f'Male Average Purchase Price: ${male_avg_price}')\n",
    "# Male Total Purchase Value\n",
    "male_total_purchases = male_data['Price'].sum()\n",
    "print(f'Male Total Purchase Value: ${male_total_purchases}')\n",
    "# Male Average Purchase Total per Person\n"
   ]
  },
  {
   "cell_type": "code",
   "execution_count": 38,
   "metadata": {
    "tags": []
   },
   "outputs": [
    {
     "output_type": "stream",
     "name": "stdout",
     "text": "Female Purchase Count: 113\nFemale Average Purchase Price: $3.2\nFemale Total Purchase Value: $361.94\n"
    }
   ],
   "source": [
    "# Purchasing Analysis (Gender)\n",
    "# Female Purchase Count\n",
    "female_purchase_count = female_data['Purchase ID'].nunique()\n",
    "print(f'Female Purchase Count: {female_purchase_count}')\n",
    "# Female Average Purchase Price\n",
    "female_avg_price = round(female_data['Price'].mean(),2)\n",
    "print(f'Female Average Purchase Price: ${female_avg_price}')\n",
    "# Female Total Purchase Value\n",
    "female_total_purchases = female_data['Price'].sum()\n",
    "print(f'Female Total Purchase Value: ${female_total_purchases}')\n",
    "# Female Average Purchase Total per Person\n"
   ]
  },
  {
   "cell_type": "code",
   "execution_count": 39,
   "metadata": {
    "tags": []
   },
   "outputs": [
    {
     "output_type": "stream",
     "name": "stdout",
     "text": "Other/Non-Disclosed Purchase Count: 15\nOther/Non-Disclosed Average Purchase Price: $3.35\nOther/Non-Disclosed Total Purchase Value: $50.19\n"
    }
   ],
   "source": [
    "# Purchasing Analysis (Gender)\n",
    "# Other/Non-Disclosed Purchase Count\n",
    "other_purchase_count = other_data['Purchase ID'].nunique()\n",
    "print(f'Other/Non-Disclosed Purchase Count: {other_purchase_count}')\n",
    "# Other/Non-Disclosed Average Purchase Price\n",
    "other_avg_price = round(other_data['Price'].mean(),2)\n",
    "print(f'Other/Non-Disclosed Average Purchase Price: ${other_avg_price}')\n",
    "# Other/Non-Disclosed Total Purchase Value\n",
    "other_total_purchases = other_data['Price'].sum()\n",
    "print(f'Other/Non-Disclosed Total Purchase Value: ${other_total_purchases}')\n",
    "# Other/Non-Disclosed Average Purchase Total per Person\n"
   ]
  },
  {
   "cell_type": "code",
   "execution_count": 43,
   "metadata": {
    "tags": []
   },
   "outputs": [
    {
     "output_type": "stream",
     "name": "stdout",
     "text": "Age 10-14 Purchase Count: 28\nAge 10-14 Average Purchase Price: $2.96\nAge 10-14 Total Purchase Value: $82.78\n"
    }
   ],
   "source": [
    "# Age Demographics\n",
    "# 10-14, 15-19, 20-24, 25-29, 30-34, 35-39\n",
    "age_10_14 = purchase_data.loc[(purchase_data[\"Age\"] >= 10) & (purchase_data[\"Age\"] <= 14),:]\n",
    "# 10-14 Purchase Count\n",
    "purchase_count_10_14 = age_10_14['Purchase ID'].nunique()\n",
    "print(f'Age 10-14 Purchase Count: {purchase_count_10_14}')\n",
    "# 10-14 Average Purchase Price\n",
    "avg_price_10_14 = round(age_10_14['Price'].mean(),2)\n",
    "print(f'Age 10-14 Average Purchase Price: ${avg_price_10_14}')\n",
    "# 10-14 Total Purchase Value\n",
    "total_purchases_10_14 = age_10_14['Price'].sum()\n",
    "print(f'Age 10-14 Total Purchase Value: ${total_purchases_10_14}')\n",
    "# 10-14 Average Purchase Total per Person\n"
   ]
  },
  {
   "cell_type": "code",
   "execution_count": 44,
   "metadata": {
    "tags": []
   },
   "outputs": [
    {
     "output_type": "stream",
     "name": "stdout",
     "text": "Age 15-19 Purchase Count: 136\nAge 15-19 Average Purchase Price: $3.04\nAge 15-19 Total Purchase Value: $412.89\n"
    }
   ],
   "source": [
    "# Age Demographics\n",
    "age_15_19 = purchase_data.loc[(purchase_data[\"Age\"] >= 15) & (purchase_data[\"Age\"] <= 19),:]\n",
    "# 15-19 Purchase Count\n",
    "purchase_count_15_19 = age_15_19['Purchase ID'].nunique()\n",
    "print(f'Age 15-19 Purchase Count: {purchase_count_15_19}')\n",
    "# 15-19 Average Purchase Price\n",
    "avg_price_15_19 = round(age_15_19['Price'].mean(),2)\n",
    "print(f'Age 15-19 Average Purchase Price: ${avg_price_15_19}')\n",
    "# 15-19 Total Purchase Value\n",
    "total_purchases_15_19 = age_15_19['Price'].sum()\n",
    "print(f'Age 15-19 Total Purchase Value: ${total_purchases_15_19}')\n",
    "# 15-19 Average Purchase Total per Person"
   ]
  },
  {
   "cell_type": "code",
   "execution_count": 45,
   "metadata": {
    "tags": []
   },
   "outputs": [
    {
     "output_type": "stream",
     "name": "stdout",
     "text": "Age 20-24 Purchase Count: 365\nAge 20-24 Average Purchase Price: $3.05\nAge 20-24 Total Purchase Value: $1114.06\n"
    }
   ],
   "source": [
    "# Age Demographics\n",
    "age_20_24 = purchase_data.loc[(purchase_data[\"Age\"] >= 20) & (purchase_data[\"Age\"] <= 24),:]\n",
    "# 20-24 Purchase Count\n",
    "purchase_count_20_24 = age_20_24['Purchase ID'].nunique()\n",
    "print(f'Age 20-24 Purchase Count: {purchase_count_20_24}')\n",
    "# 20-24 Average Purchase Price\n",
    "avg_price_20_24 = round(age_20_24['Price'].mean(),2)\n",
    "print(f'Age 20-24 Average Purchase Price: ${avg_price_20_24}')\n",
    "# 20-24 Total Purchase Value\n",
    "total_purchases_20_24 = age_20_24['Price'].sum()\n",
    "print(f'Age 20-24 Total Purchase Value: ${total_purchases_20_24}')\n",
    "# 20-24 Average Purchase Total per Person"
   ]
  },
  {
   "cell_type": "code",
   "execution_count": null,
   "metadata": {},
   "outputs": [],
   "source": [
    "# Age Demographics\n",
    "age_25_29 = purchase_data.loc[(purchase_data[\"Age\"] >= 25) & (purchase_data[\"Age\"] <= 29),:]\n",
    "# 15-19 Purchase Count\n",
    "purchase_count_15_19 = age_15_19['Purchase ID'].nunique()\n",
    "print(f'Age 15-19 Purchase Count: {purchase_count_15_19}')\n",
    "# 15-19 Average Purchase Price\n",
    "avg_price_15_19 = round(age_15_19['Price'].mean(),2)\n",
    "print(f'Age 15-19 Average Purchase Price: ${avg_price_15_19}')\n",
    "# 15-19 Total Purchase Value\n",
    "total_purchases_15_19 = age_15_19['Price'].sum()\n",
    "print(f'Age 15-19 Total Purchase Value: ${total_purchases_15_19}')\n",
    "# 15-19 Average Purchase Total per Person"
   ]
  },
  {
   "cell_type": "code",
   "execution_count": null,
   "metadata": {},
   "outputs": [],
   "source": [
    "# Age Demographics\n",
    "age_30_34 = purchase_data.loc[(purchase_data[\"Age\"] >= 30) & (purchase_data[\"Age\"] <= 34),:]\n",
    "# 15-19 Purchase Count\n",
    "purchase_count_15_19 = age_15_19['Purchase ID'].nunique()\n",
    "print(f'Age 15-19 Purchase Count: {purchase_count_15_19}')\n",
    "# 15-19 Average Purchase Price\n",
    "avg_price_15_19 = round(age_15_19['Price'].mean(),2)\n",
    "print(f'Age 15-19 Average Purchase Price: ${avg_price_15_19}')\n",
    "# 15-19 Total Purchase Value\n",
    "total_purchases_15_19 = age_15_19['Price'].sum()\n",
    "print(f'Age 15-19 Total Purchase Value: ${total_purchases_15_19}')\n",
    "# 15-19 Average Purchase Total per Person"
   ]
  },
  {
   "cell_type": "code",
   "execution_count": null,
   "metadata": {},
   "outputs": [],
   "source": [
    "# Age Demographics\n",
    "age_35_39 = purchase_data.loc[(purchase_data[\"Age\"] >= 35) & (purchase_data[\"Age\"] <= 39),:]\n",
    "# 15-19 Purchase Count\n",
    "purchase_count_15_19 = age_15_19['Purchase ID'].nunique()\n",
    "print(f'Age 15-19 Purchase Count: {purchase_count_15_19}')\n",
    "# 15-19 Average Purchase Price\n",
    "avg_price_15_19 = round(age_15_19['Price'].mean(),2)\n",
    "print(f'Age 15-19 Average Purchase Price: ${avg_price_15_19}')\n",
    "# 15-19 Total Purchase Value\n",
    "total_purchases_15_19 = age_15_19['Price'].sum()\n",
    "print(f'Age 15-19 Total Purchase Value: ${total_purchases_15_19}')\n",
    "# 15-19 Average Purchase Total per Person"
   ]
  }
 ]
}