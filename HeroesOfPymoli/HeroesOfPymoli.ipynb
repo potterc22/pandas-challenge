{
 "cells": [
  {
   "cell_type": "markdown",
   "metadata": {},
   "source": [
    "### Note\n",
    "* Instructions have been included for each segment. You do not have to follow them exactly, but they are included to help you think through the steps."
   ]
  },
  {
   "cell_type": "code",
   "execution_count": 1,
   "metadata": {},
   "outputs": [
    {
     "output_type": "execute_result",
     "data": {
      "text/plain": "   Purchase ID             SN  Age Gender  Item ID  \\\n0            0        Lisim78   20   Male      108   \n1            1    Lisovynya38   40   Male      143   \n2            2     Ithergue48   24   Male       92   \n3            3  Chamassasya86   24   Male      100   \n4            4      Iskosia90   23   Male      131   \n\n                                   Item Name  Price  \n0  Extraction, Quickblade Of Trembling Hands   3.53  \n1                          Frenzied Scimitar   1.56  \n2                               Final Critic   4.88  \n3                                Blindscythe   3.27  \n4                                       Fury   1.44  ",
      "text/html": "<div>\n<style scoped>\n    .dataframe tbody tr th:only-of-type {\n        vertical-align: middle;\n    }\n\n    .dataframe tbody tr th {\n        vertical-align: top;\n    }\n\n    .dataframe thead th {\n        text-align: right;\n    }\n</style>\n<table border=\"1\" class=\"dataframe\">\n  <thead>\n    <tr style=\"text-align: right;\">\n      <th></th>\n      <th>Purchase ID</th>\n      <th>SN</th>\n      <th>Age</th>\n      <th>Gender</th>\n      <th>Item ID</th>\n      <th>Item Name</th>\n      <th>Price</th>\n    </tr>\n  </thead>\n  <tbody>\n    <tr>\n      <th>0</th>\n      <td>0</td>\n      <td>Lisim78</td>\n      <td>20</td>\n      <td>Male</td>\n      <td>108</td>\n      <td>Extraction, Quickblade Of Trembling Hands</td>\n      <td>3.53</td>\n    </tr>\n    <tr>\n      <th>1</th>\n      <td>1</td>\n      <td>Lisovynya38</td>\n      <td>40</td>\n      <td>Male</td>\n      <td>143</td>\n      <td>Frenzied Scimitar</td>\n      <td>1.56</td>\n    </tr>\n    <tr>\n      <th>2</th>\n      <td>2</td>\n      <td>Ithergue48</td>\n      <td>24</td>\n      <td>Male</td>\n      <td>92</td>\n      <td>Final Critic</td>\n      <td>4.88</td>\n    </tr>\n    <tr>\n      <th>3</th>\n      <td>3</td>\n      <td>Chamassasya86</td>\n      <td>24</td>\n      <td>Male</td>\n      <td>100</td>\n      <td>Blindscythe</td>\n      <td>3.27</td>\n    </tr>\n    <tr>\n      <th>4</th>\n      <td>4</td>\n      <td>Iskosia90</td>\n      <td>23</td>\n      <td>Male</td>\n      <td>131</td>\n      <td>Fury</td>\n      <td>1.44</td>\n    </tr>\n  </tbody>\n</table>\n</div>"
     },
     "metadata": {},
     "execution_count": 1
    }
   ],
   "source": [
    "# Dependencies and Setup\n",
    "import pandas as pd\n",
    "\n",
    "# File to Load (Remember to Change These)\n",
    "file_to_load = \"Resources/purchase_data.csv\"\n",
    "\n",
    "# Read Purchasing File and store into Pandas data frame\n",
    "purchase_data = pd.read_csv(file_to_load)\n",
    "purchase_data.head()"
   ]
  },
  {
   "cell_type": "markdown",
   "metadata": {},
   "source": [
    "## Player Count"
   ]
  },
  {
   "cell_type": "markdown",
   "metadata": {},
   "source": [
    "* Display the total number of players\n"
   ]
  },
  {
   "cell_type": "code",
   "execution_count": 2,
   "metadata": {},
   "outputs": [
    {
     "output_type": "execute_result",
     "data": {
      "text/plain": "   Total Players\n0            576",
      "text/html": "<div>\n<style scoped>\n    .dataframe tbody tr th:only-of-type {\n        vertical-align: middle;\n    }\n\n    .dataframe tbody tr th {\n        vertical-align: top;\n    }\n\n    .dataframe thead th {\n        text-align: right;\n    }\n</style>\n<table border=\"1\" class=\"dataframe\">\n  <thead>\n    <tr style=\"text-align: right;\">\n      <th></th>\n      <th>Total Players</th>\n    </tr>\n  </thead>\n  <tbody>\n    <tr>\n      <th>0</th>\n      <td>576</td>\n    </tr>\n  </tbody>\n</table>\n</div>"
     },
     "metadata": {},
     "execution_count": 2
    }
   ],
   "source": [
    "total_players = len(purchase_data['SN'].unique())\n",
    "print_total_players = pd.DataFrame({\"Total Players\": [total_players]})\n",
    "print_total_players"
   ]
  },
  {
   "cell_type": "markdown",
   "metadata": {},
   "source": [
    "## Purchasing Analysis (Total)"
   ]
  },
  {
   "cell_type": "markdown",
   "metadata": {},
   "source": [
    "* Run basic calculations to obtain number of unique items, average price, etc.\n",
    "\n",
    "\n",
    "* Create a summary data frame to hold the results\n",
    "\n",
    "\n",
    "* Optional: give the displayed data cleaner formatting\n",
    "\n",
    "\n",
    "* Display the summary data frame\n"
   ]
  },
  {
   "cell_type": "code",
   "execution_count": 3,
   "metadata": {},
   "outputs": [
    {
     "output_type": "execute_result",
     "data": {
      "text/plain": "   Number of Unique Items Average Purchase Price  Total Number of Purchases  \\\n0                     179                  $3.05                        780   \n\n  Total Revenue  \n0     $2,379.77  ",
      "text/html": "<div>\n<style scoped>\n    .dataframe tbody tr th:only-of-type {\n        vertical-align: middle;\n    }\n\n    .dataframe tbody tr th {\n        vertical-align: top;\n    }\n\n    .dataframe thead th {\n        text-align: right;\n    }\n</style>\n<table border=\"1\" class=\"dataframe\">\n  <thead>\n    <tr style=\"text-align: right;\">\n      <th></th>\n      <th>Number of Unique Items</th>\n      <th>Average Purchase Price</th>\n      <th>Total Number of Purchases</th>\n      <th>Total Revenue</th>\n    </tr>\n  </thead>\n  <tbody>\n    <tr>\n      <th>0</th>\n      <td>179</td>\n      <td>$3.05</td>\n      <td>780</td>\n      <td>$2,379.77</td>\n    </tr>\n  </tbody>\n</table>\n</div>"
     },
     "metadata": {},
     "execution_count": 3
    }
   ],
   "source": [
    "# Found the nunique() function here https://pandas.pydata.org/pandas-docs/stable/reference/api/pandas.Series.nunique.html\n",
    "# Calculate each value\n",
    "unique_items = purchase_data[\"Item Name\"].nunique()\n",
    "avg_price = round(purchase_data[\"Price\"].mean(),2)\n",
    "total_purchases = purchase_data['Purchase ID'].nunique()\n",
    "total_revenue = purchase_data['Price'].sum()\n",
    "#print the output table\n",
    "print_purchasing_analysis = pd.DataFrame({\n",
    "    'Number of Unique Items': [unique_items],\n",
    "    'Average Purchase Price': [avg_price],\n",
    "    'Total Number of Purchases': [total_purchases],\n",
    "    'Total Revenue': [total_revenue]\n",
    "})\n",
    "# found how to format columns here: https://pandas.pydata.org/pandas-docs/stable/user_guide/style.html\n",
    "print_purchasing_analysis['Average Purchase Price'] = print_purchasing_analysis['Average Purchase Price'].map('${:,.2f}'.format) \n",
    "\n",
    "print_purchasing_analysis['Total Revenue'] = print_purchasing_analysis['Total Revenue'].map('${:,.2f}'.format)\n",
    "print_purchasing_analysis"
   ]
  },
  {
   "cell_type": "markdown",
   "metadata": {},
   "source": [
    "## Gender Demographics"
   ]
  },
  {
   "cell_type": "markdown",
   "metadata": {},
   "source": [
    "* Percentage and Count of Male Players\n",
    "\n",
    "\n",
    "* Percentage and Count of Female Players\n",
    "\n",
    "\n",
    "* Percentage and Count of Other / Non-Disclosed\n",
    "\n",
    "\n"
   ]
  },
  {
   "cell_type": "code",
   "execution_count": 4,
   "metadata": {},
   "outputs": [],
   "source": [
    "# Calculate Percentage and Count of Male Players\n",
    "male_data = purchase_data.loc[purchase_data[\"Gender\"] == 'Male',:]\n",
    "male_players = male_data['SN'].nunique()\n",
    "male_percentage = round((male_players/total_players) * 100,2)\n"
   ]
  },
  {
   "cell_type": "code",
   "execution_count": 5,
   "metadata": {},
   "outputs": [],
   "source": [
    "# Calculate Percentage and Count of Female Players\n",
    "female_data = purchase_data.loc[purchase_data[\"Gender\"] == 'Female',:]\n",
    "female_players = female_data['SN'].nunique()\n",
    "female_percentage = round((female_players/total_players) * 100,2)"
   ]
  },
  {
   "cell_type": "code",
   "execution_count": 6,
   "metadata": {},
   "outputs": [],
   "source": [
    "# Percentage and Count of Female Players\n",
    "other_data = purchase_data.loc[purchase_data[\"Gender\"] == 'Other / Non-Disclosed',:]\n",
    "other_players = other_data['SN'].nunique()\n",
    "other_percentage = round((other_players/total_players) * 100,2)"
   ]
  },
  {
   "cell_type": "code",
   "execution_count": 7,
   "metadata": {},
   "outputs": [
    {
     "output_type": "execute_result",
     "data": {
      "text/plain": "                     Total Count Percentage of Players\nGender                                                \nMale                         484                84.03%\nFemale                        81                14.06%\nOther/Non-Disclosed           11                 1.91%",
      "text/html": "<div>\n<style scoped>\n    .dataframe tbody tr th:only-of-type {\n        vertical-align: middle;\n    }\n\n    .dataframe tbody tr th {\n        vertical-align: top;\n    }\n\n    .dataframe thead th {\n        text-align: right;\n    }\n</style>\n<table border=\"1\" class=\"dataframe\">\n  <thead>\n    <tr style=\"text-align: right;\">\n      <th></th>\n      <th>Total Count</th>\n      <th>Percentage of Players</th>\n    </tr>\n    <tr>\n      <th>Gender</th>\n      <th></th>\n      <th></th>\n    </tr>\n  </thead>\n  <tbody>\n    <tr>\n      <th>Male</th>\n      <td>484</td>\n      <td>84.03%</td>\n    </tr>\n    <tr>\n      <th>Female</th>\n      <td>81</td>\n      <td>14.06%</td>\n    </tr>\n    <tr>\n      <th>Other/Non-Disclosed</th>\n      <td>11</td>\n      <td>1.91%</td>\n    </tr>\n  </tbody>\n</table>\n</div>"
     },
     "metadata": {},
     "execution_count": 7
    }
   ],
   "source": [
    "# Print output\n",
    "print_gender_demographics = pd.DataFrame({\n",
    "    \"Gender\": ['Male', 'Female', 'Other/Non-Disclosed'],\n",
    "    'Total Count': [male_players, female_players, other_players],\n",
    "    'Percentage of Players': [male_percentage, female_percentage, other_percentage]\n",
    "    })\n",
    "# set index to genders to get rid of the index numbers\n",
    "print_gender_demographics = print_gender_demographics.set_index(\"Gender\")\n",
    "# Format for percentages\n",
    "print_gender_demographics['Percentage of Players'] = print_gender_demographics['Percentage of Players'].map('{:.2f}%'.format)\n",
    "print_gender_demographics"
   ]
  },
  {
   "cell_type": "markdown",
   "metadata": {},
   "source": [
    "\n",
    "## Purchasing Analysis (Gender)"
   ]
  },
  {
   "cell_type": "markdown",
   "metadata": {},
   "source": [
    "* Run basic calculations to obtain purchase count, avg. purchase price, avg. purchase total per person etc. by gender\n",
    "\n",
    "\n",
    "\n",
    "\n",
    "* Create a summary data frame to hold the results\n",
    "\n",
    "\n",
    "* Optional: give the displayed data cleaner formatting\n",
    "\n",
    "\n",
    "* Display the summary data frame"
   ]
  },
  {
   "cell_type": "code",
   "execution_count": 8,
   "metadata": {},
   "outputs": [],
   "source": [
    "# Male Purchase Count\n",
    "male_purchase_count = male_data['Purchase ID'].nunique()\n",
    "# Male Average Purchase Price\n",
    "male_avg_price = round(male_data['Price'].mean(),2)\n",
    "# Male Total Purchase Value\n",
    "male_total_purchases = male_data['Price'].sum()\n",
    "# Male Average Purchase total per Person by Gender\n",
    "male_avg_per_person = round(male_total_purchases / male_players, 2)"
   ]
  },
  {
   "cell_type": "code",
   "execution_count": 9,
   "metadata": {
    "tags": []
   },
   "outputs": [],
   "source": [
    "# Female Purchase Count\n",
    "female_purchase_count = female_data['Purchase ID'].nunique()\n",
    "# Female Average Purchase Price\n",
    "female_avg_price = round(female_data['Price'].mean(),2)\n",
    "# Female Total Purchase Value\n",
    "female_total_purchases = female_data['Price'].sum()\n",
    "# Female Average Purchase total per person by gender\n",
    "female_avg_per_person = round(female_total_purchases / female_players, 2)"
   ]
  },
  {
   "cell_type": "code",
   "execution_count": 10,
   "metadata": {},
   "outputs": [],
   "source": [
    "# Other/Non-Disclosed Purchase Count\n",
    "other_purchase_count = other_data['Purchase ID'].nunique()\n",
    "# Other/Non-Disclosed Average Purchase Price\n",
    "other_avg_price = round(other_data['Price'].mean(),2)\n",
    "# Other/Non-Disclosed Total Purchase Value\n",
    "other_total_purchases = other_data['Price'].sum()\n",
    "# Other/Non-Disclosed Average Purchase Total per Person by Gender\n",
    "other_avg_per_person = round(other_total_purchases / other_players, 2)"
   ]
  },
  {
   "cell_type": "code",
   "execution_count": 11,
   "metadata": {},
   "outputs": [
    {
     "output_type": "execute_result",
     "data": {
      "text/plain": "                     Purchase Count Average Purchase Price  \\\nGender                                                       \nMale                            652                  $3.02   \nFemale                          113                  $3.20   \nOther/Non-Disclosed              15                  $3.35   \n\n                    Total Purchase Value Avg Total Purchase per Person  \nGender                                                                  \nMale                           $1,967.64                         $4.07  \nFemale                           $361.94                         $4.47  \nOther/Non-Disclosed               $50.19                         $4.56  ",
      "text/html": "<div>\n<style scoped>\n    .dataframe tbody tr th:only-of-type {\n        vertical-align: middle;\n    }\n\n    .dataframe tbody tr th {\n        vertical-align: top;\n    }\n\n    .dataframe thead th {\n        text-align: right;\n    }\n</style>\n<table border=\"1\" class=\"dataframe\">\n  <thead>\n    <tr style=\"text-align: right;\">\n      <th></th>\n      <th>Purchase Count</th>\n      <th>Average Purchase Price</th>\n      <th>Total Purchase Value</th>\n      <th>Avg Total Purchase per Person</th>\n    </tr>\n    <tr>\n      <th>Gender</th>\n      <th></th>\n      <th></th>\n      <th></th>\n      <th></th>\n    </tr>\n  </thead>\n  <tbody>\n    <tr>\n      <th>Male</th>\n      <td>652</td>\n      <td>$3.02</td>\n      <td>$1,967.64</td>\n      <td>$4.07</td>\n    </tr>\n    <tr>\n      <th>Female</th>\n      <td>113</td>\n      <td>$3.20</td>\n      <td>$361.94</td>\n      <td>$4.47</td>\n    </tr>\n    <tr>\n      <th>Other/Non-Disclosed</th>\n      <td>15</td>\n      <td>$3.35</td>\n      <td>$50.19</td>\n      <td>$4.56</td>\n    </tr>\n  </tbody>\n</table>\n</div>"
     },
     "metadata": {},
     "execution_count": 11
    }
   ],
   "source": [
    "# Print output\n",
    "print_gender_purchasing = pd.DataFrame({\n",
    "    \"Gender\": ['Male', 'Female', 'Other/Non-Disclosed'],\n",
    "    'Purchase Count': [male_purchase_count, female_purchase_count, other_purchase_count],\n",
    "    'Average Purchase Price': [male_avg_price, female_avg_price, other_avg_price],\n",
    "    'Total Purchase Value': [male_total_purchases, female_total_purchases, other_total_purchases],\n",
    "    'Avg Total Purchase per Person': [male_avg_per_person, female_avg_per_person, other_avg_per_person]\n",
    "    })\n",
    "# set index to genders to get rid of the index numbers\n",
    "print_gender_purchasing = print_gender_purchasing.set_index(\"Gender\")\n",
    "# format the price columns as currency\n",
    "print_gender_purchasing['Average Purchase Price'] = print_gender_purchasing['Average Purchase Price'].map('${:,.2f}'.format)\n",
    "\n",
    "print_gender_purchasing['Total Purchase Value'] = print_gender_purchasing['Total Purchase Value'].map('${:,.2f}'.format) \n",
    "\n",
    "print_gender_purchasing['Avg Total Purchase per Person'] = print_gender_purchasing['Avg Total Purchase per Person'].map('${:,.2f}'.format)\n",
    "print_gender_purchasing"
   ]
  },
  {
   "cell_type": "markdown",
   "metadata": {},
   "source": [
    "## Age Demographics"
   ]
  },
  {
   "cell_type": "markdown",
   "metadata": {},
   "source": [
    "* Establish bins for ages\n",
    "\n",
    "\n",
    "* Categorize the existing players using the age bins. Hint: use pd.cut()\n",
    "\n",
    "\n",
    "* Calculate the numbers and percentages by age group\n",
    "\n",
    "\n",
    "* Create a summary data frame to hold the results\n",
    "\n",
    "\n",
    "* Optional: round the percentage column to two decimal points\n",
    "\n",
    "\n",
    "* Display Age Demographics Table\n"
   ]
  },
  {
   "cell_type": "code",
   "execution_count": 16,
   "metadata": {},
   "outputs": [
    {
     "output_type": "execute_result",
     "data": {
      "text/plain": "          Total Count Percentage of Players\nAge Bins                                   \n<10                17                 2.95%\n10-14              22                 3.82%\n15-19             107                18.58%\n20-24             258                44.79%\n25-29              77                13.37%\n30-34              52                 9.03%\n35-39              31                 5.38%\n40+                12                 2.08%",
      "text/html": "<div>\n<style scoped>\n    .dataframe tbody tr th:only-of-type {\n        vertical-align: middle;\n    }\n\n    .dataframe tbody tr th {\n        vertical-align: top;\n    }\n\n    .dataframe thead th {\n        text-align: right;\n    }\n</style>\n<table border=\"1\" class=\"dataframe\">\n  <thead>\n    <tr style=\"text-align: right;\">\n      <th></th>\n      <th>Total Count</th>\n      <th>Percentage of Players</th>\n    </tr>\n    <tr>\n      <th>Age Bins</th>\n      <th></th>\n      <th></th>\n    </tr>\n  </thead>\n  <tbody>\n    <tr>\n      <th>&lt;10</th>\n      <td>17</td>\n      <td>2.95%</td>\n    </tr>\n    <tr>\n      <th>10-14</th>\n      <td>22</td>\n      <td>3.82%</td>\n    </tr>\n    <tr>\n      <th>15-19</th>\n      <td>107</td>\n      <td>18.58%</td>\n    </tr>\n    <tr>\n      <th>20-24</th>\n      <td>258</td>\n      <td>44.79%</td>\n    </tr>\n    <tr>\n      <th>25-29</th>\n      <td>77</td>\n      <td>13.37%</td>\n    </tr>\n    <tr>\n      <th>30-34</th>\n      <td>52</td>\n      <td>9.03%</td>\n    </tr>\n    <tr>\n      <th>35-39</th>\n      <td>31</td>\n      <td>5.38%</td>\n    </tr>\n    <tr>\n      <th>40+</th>\n      <td>12</td>\n      <td>2.08%</td>\n    </tr>\n  </tbody>\n</table>\n</div>"
     },
     "metadata": {},
     "execution_count": 16
    }
   ],
   "source": [
    "# Found an article on pd.cut(): https://www.geeksforgeeks.org/pandas-cut-method-in-python/\n",
    "# create list for age bins\n",
    "bins = [0, 9, 14, 19, 24, 29, 34, 39, 100]\n",
    "# Declare bin labels\n",
    "bin_labels = ['<10', '10-14', '15-19', '20-24', '25-29', '30-34', '35-39', '40+']\n",
    "# Use pd.cut() to split data into age bins\n",
    "purchase_data['Age Bins'] = pd.cut(purchase_data['Age'], bins, labels=bin_labels, include_lowest=True)\n",
    "# Group the purchase data by age group\n",
    "pd_by_age = purchase_data.groupby(['Age Bins'])\n",
    "# Create dataframe using count()\n",
    "pd_by_age_df = pd.DataFrame(pd_by_age['SN'].nunique())\n",
    "# Rename SN column to Total Count\n",
    "pd_by_age_df.rename(columns={'SN':'Total Count'}, inplace=True)\n",
    "# Calculate Percentage of Players\n",
    "pd_by_age_df['Percentage of Players'] = round((pd_by_age_df['Total Count'] /pd_by_age_df['Total Count'].sum()) * 100, 2)\n",
    "# Format Percentage of Players as a percent\n",
    "pd_by_age_df['Percentage of Players'] = pd_by_age_df['Percentage of Players'].map(\"{:.2f}%\".format)\n",
    "pd_by_age_df"
   ]
  },
  {
   "cell_type": "markdown",
   "metadata": {},
   "source": [
    "## Purchasing Analysis (Age)"
   ]
  },
  {
   "cell_type": "markdown",
   "metadata": {},
   "source": [
    "* Bin the purchase_data data frame by age\n",
    "\n",
    "\n",
    "* Run basic calculations to obtain purchase count, avg. purchase price, avg. purchase total per person etc. in the table below\n",
    "\n",
    "\n",
    "* Create a summary data frame to hold the results\n",
    "\n",
    "\n",
    "* Optional: give the displayed data cleaner formatting\n",
    "\n",
    "\n",
    "* Display the summary data frame"
   ]
  },
  {
   "cell_type": "code",
   "execution_count": 17,
   "metadata": {},
   "outputs": [],
   "source": [
    "# Less than 10 years old\n",
    "age_less_10 = purchase_data.loc[purchase_data[\"Age\"] < 10 ,:]\n",
    "# Less than 10 Purchase Count\n",
    "purchase_count_less_10 = age_less_10['Purchase ID'].nunique()\n",
    "# Less than 10 Average Purchase Price\n",
    "avg_price_less_10 = round(age_less_10['Price'].mean(),2)\n",
    "# Less than 10 Total Purchase Value\n",
    "total_purchases_less_10 = age_less_10['Price'].sum()\n",
    "# Calculate total players less than 10\n",
    "less_10_players = age_less_10['SN'].nunique()\n",
    "# Less than 10 Average Purchase Total per Person\n",
    "less_10_avg_per_person = round(total_purchases_less_10 / less_10_players, 2)"
   ]
  },
  {
   "cell_type": "code",
   "execution_count": 18,
   "metadata": {
    "tags": []
   },
   "outputs": [],
   "source": [
    "# Age 10-14\n",
    "age_10_14 = purchase_data.loc[(purchase_data[\"Age\"] >= 10) & (purchase_data[\"Age\"] <= 14),:]\n",
    "# 10-14 Purchase Count\n",
    "purchase_count_10_14 = age_10_14['Purchase ID'].nunique()\n",
    "# 10-14 Average Purchase Price\n",
    "avg_price_10_14 = round(age_10_14['Price'].mean(),2)\n",
    "# 10-14 Total Purchase Value\n",
    "total_purchases_10_14 = age_10_14['Price'].sum()\n",
    "# Calculate total players between 10-14\n",
    "age_10_14_players = age_10_14['SN'].nunique()\n",
    "# 10-14 Average Purchase Total per Person\n",
    "age_10_14_avg_per_person = round(total_purchases_10_14 / age_10_14_players, 2)"
   ]
  },
  {
   "cell_type": "code",
   "execution_count": 19,
   "metadata": {},
   "outputs": [],
   "source": [
    "# Age 15-19\n",
    "age_15_19 = purchase_data.loc[(purchase_data[\"Age\"] >= 15) & (purchase_data[\"Age\"] <= 19),:]\n",
    "# 15-19 Purchase Count\n",
    "purchase_count_15_19 = age_15_19['Purchase ID'].nunique()\n",
    "# 15-19 Average Purchase Price\n",
    "avg_price_15_19 = round(age_15_19['Price'].mean(),2)\n",
    "# 15-19 Total Purchase Value\n",
    "total_purchases_15_19 = age_15_19['Price'].sum()\n",
    "# Calculate total players between 15-19\n",
    "age_15_19_players = age_15_19['SN'].nunique()\n",
    "# 15-19 Average Purchase Total per Person\n",
    "age_15_19_avg_per_person = round(total_purchases_15_19 / age_15_19_players, 2)"
   ]
  },
  {
   "cell_type": "code",
   "execution_count": 20,
   "metadata": {},
   "outputs": [],
   "source": [
    "# Age 20-24\n",
    "age_20_24 = purchase_data.loc[(purchase_data[\"Age\"] >= 20) & (purchase_data[\"Age\"] <= 24),:]\n",
    "# 20-24 Purchase Count\n",
    "purchase_count_20_24 = age_20_24['Purchase ID'].nunique()\n",
    "# 20-24 Average Purchase Price\n",
    "avg_price_20_24 = round(age_20_24['Price'].mean(),2)\n",
    "# 20-24 Total Purchase Value\n",
    "total_purchases_20_24 = age_20_24['Price'].sum()\n",
    "# Calculate total players between 20-24\n",
    "age_20_24_players = age_20_24['SN'].nunique()\n",
    "# 20-24 Average Purchase Total per Person\n",
    "age_20_24_avg_per_person = round(total_purchases_20_24 / age_20_24_players, 2)"
   ]
  },
  {
   "cell_type": "code",
   "execution_count": 21,
   "metadata": {},
   "outputs": [],
   "source": [
    "# Age 25-29\n",
    "age_25_29 = purchase_data.loc[(purchase_data[\"Age\"] >= 25) & (purchase_data[\"Age\"] <= 29),:]\n",
    "# 25-29 Purchase Count\n",
    "purchase_count_25_29 = age_25_29['Purchase ID'].nunique()\n",
    "# 25-29 Average Purchase Price\n",
    "avg_price_25_29 = round(age_25_29['Price'].mean(),2)\n",
    "# 25-29 Total Purchase Value\n",
    "total_purchases_25_29 = age_25_29['Price'].sum()\n",
    "# Calculate total players between 25-29\n",
    "age_25_29_players = age_25_29['SN'].nunique()\n",
    "# 25-29 Average Purchase Total per Person\n",
    "age_25_29_avg_per_person = round(total_purchases_25_29 / age_25_29_players, 2)"
   ]
  },
  {
   "cell_type": "code",
   "execution_count": 22,
   "metadata": {},
   "outputs": [],
   "source": [
    "# Age 30-34\n",
    "age_30_34 = purchase_data.loc[(purchase_data[\"Age\"] >= 30) & (purchase_data[\"Age\"] <= 34),:]\n",
    "# 30-34 Purchase Count\n",
    "purchase_count_30_34 = age_30_34['Purchase ID'].nunique()\n",
    "# 30-34 Average Purchase Price\n",
    "avg_price_30_34 = round(age_30_34['Price'].mean(),2)\n",
    "# 30-34 Total Purchase Value\n",
    "total_purchases_30_34 = age_30_34['Price'].sum()\n",
    "# Calculate total players between 30-34\n",
    "age_30_34_players = age_30_34['SN'].nunique()\n",
    "# 30-34 Average Purchase Total per Person\n",
    "age_30_34_avg_per_person = round(total_purchases_30_34 / age_30_34_players, 2)"
   ]
  },
  {
   "cell_type": "code",
   "execution_count": 23,
   "metadata": {},
   "outputs": [],
   "source": [
    "# Age 35-39\n",
    "age_35_39 = purchase_data.loc[(purchase_data[\"Age\"] >= 35) & (purchase_data[\"Age\"] <= 39),:]\n",
    "# 35-39 Purchase Count\n",
    "purchase_count_35_39 = age_35_39['Purchase ID'].nunique()\n",
    "# 35-39 Average Purchase Price\n",
    "avg_price_35_39 = round(age_35_39['Price'].mean(),2)\n",
    "# 35-39 Total Purchase Value\n",
    "total_purchases_35_39 = age_35_39['Price'].sum()\n",
    "# Calculate total players between 35-39\n",
    "age_35_39_players = age_35_39['SN'].nunique()\n",
    "# 35-39 Average Purchase Total per Person\n",
    "age_35_39_avg_per_person = round(total_purchases_35_39 / age_35_39_players, 2)"
   ]
  },
  {
   "cell_type": "code",
   "execution_count": 24,
   "metadata": {},
   "outputs": [],
   "source": [
    "# Age 40+\n",
    "age_40_plus = purchase_data.loc[purchase_data[\"Age\"] >= 40,:]\n",
    "# 40+ Purchase Count\n",
    "purchase_count_40_plus = age_40_plus['Purchase ID'].nunique()\n",
    "# 40+ Average Purchase Price\n",
    "avg_price_40_plus = round(age_40_plus['Price'].mean(),2)\n",
    "# 40+ Total Purchase Value\n",
    "total_purchases_40_plus = age_40_plus['Price'].sum()\n",
    "# Calculate total players between 40+\n",
    "age_40_plus_players = age_40_plus['SN'].nunique()\n",
    "# 40+ Average Purchase Total per Person\n",
    "age_40_plus_avg_per_person = round(total_purchases_40_plus / age_40_plus_players, 2)"
   ]
  },
  {
   "cell_type": "code",
   "execution_count": 25,
   "metadata": {},
   "outputs": [
    {
     "output_type": "execute_result",
     "data": {
      "text/plain": "            Purchase Count Average Purchase Price Total Purchase Value  \\\nAge Ranges                                                               \n<10                     23                  $3.35               $77.13   \n10-14                   28                  $2.96               $82.78   \n15-19                  136                  $3.04              $412.89   \n20-24                  365                  $3.05            $1,114.06   \n25-29                  101                  $2.90              $293.00   \n30-34                   73                  $2.93              $214.00   \n35-39                   41                  $3.60              $147.67   \n40+                     13                  $2.94               $38.24   \n\n           Avg Total Purchase per Person  \nAge Ranges                                \n<10                                $4.54  \n10-14                              $3.76  \n15-19                              $3.86  \n20-24                              $4.32  \n25-29                              $3.81  \n30-34                              $4.12  \n35-39                              $4.76  \n40+                                $3.19  ",
      "text/html": "<div>\n<style scoped>\n    .dataframe tbody tr th:only-of-type {\n        vertical-align: middle;\n    }\n\n    .dataframe tbody tr th {\n        vertical-align: top;\n    }\n\n    .dataframe thead th {\n        text-align: right;\n    }\n</style>\n<table border=\"1\" class=\"dataframe\">\n  <thead>\n    <tr style=\"text-align: right;\">\n      <th></th>\n      <th>Purchase Count</th>\n      <th>Average Purchase Price</th>\n      <th>Total Purchase Value</th>\n      <th>Avg Total Purchase per Person</th>\n    </tr>\n    <tr>\n      <th>Age Ranges</th>\n      <th></th>\n      <th></th>\n      <th></th>\n      <th></th>\n    </tr>\n  </thead>\n  <tbody>\n    <tr>\n      <th>&lt;10</th>\n      <td>23</td>\n      <td>$3.35</td>\n      <td>$77.13</td>\n      <td>$4.54</td>\n    </tr>\n    <tr>\n      <th>10-14</th>\n      <td>28</td>\n      <td>$2.96</td>\n      <td>$82.78</td>\n      <td>$3.76</td>\n    </tr>\n    <tr>\n      <th>15-19</th>\n      <td>136</td>\n      <td>$3.04</td>\n      <td>$412.89</td>\n      <td>$3.86</td>\n    </tr>\n    <tr>\n      <th>20-24</th>\n      <td>365</td>\n      <td>$3.05</td>\n      <td>$1,114.06</td>\n      <td>$4.32</td>\n    </tr>\n    <tr>\n      <th>25-29</th>\n      <td>101</td>\n      <td>$2.90</td>\n      <td>$293.00</td>\n      <td>$3.81</td>\n    </tr>\n    <tr>\n      <th>30-34</th>\n      <td>73</td>\n      <td>$2.93</td>\n      <td>$214.00</td>\n      <td>$4.12</td>\n    </tr>\n    <tr>\n      <th>35-39</th>\n      <td>41</td>\n      <td>$3.60</td>\n      <td>$147.67</td>\n      <td>$4.76</td>\n    </tr>\n    <tr>\n      <th>40+</th>\n      <td>13</td>\n      <td>$2.94</td>\n      <td>$38.24</td>\n      <td>$3.19</td>\n    </tr>\n  </tbody>\n</table>\n</div>"
     },
     "metadata": {},
     "execution_count": 25
    }
   ],
   "source": [
    "# Print output\n",
    "print_age_purchasing = pd.DataFrame({\n",
    "    \"Age Ranges\": bin_labels,\n",
    "    'Purchase Count': [purchase_count_less_10, purchase_count_10_14, purchase_count_15_19, purchase_count_20_24, purchase_count_25_29, purchase_count_30_34, purchase_count_35_39, purchase_count_40_plus],\n",
    "    'Average Purchase Price': [avg_price_less_10, avg_price_10_14, avg_price_15_19, avg_price_20_24, avg_price_25_29, avg_price_30_34, avg_price_35_39, avg_price_40_plus],\n",
    "    'Total Purchase Value': [total_purchases_less_10, total_purchases_10_14, total_purchases_15_19, total_purchases_20_24, total_purchases_25_29, total_purchases_30_34, total_purchases_35_39, total_purchases_40_plus],\n",
    "    'Avg Total Purchase per Person': [less_10_avg_per_person, age_10_14_avg_per_person, age_15_19_avg_per_person, age_20_24_avg_per_person, age_25_29_avg_per_person, age_30_34_avg_per_person, age_35_39_avg_per_person, age_40_plus_avg_per_person]\n",
    "    })\n",
    "# set index to genders to get rid of the index numbers\n",
    "print_age_purchasing = print_age_purchasing.set_index(\"Age Ranges\")\n",
    "# format the price columns as currency\n",
    "print_age_purchasing['Average Purchase Price'] = print_age_purchasing['Average Purchase Price'].map('${:,.2f}'.format)\n",
    "\n",
    "print_age_purchasing['Total Purchase Value'] = print_age_purchasing['Total Purchase Value'].map('${:,.2f}'.format) \n",
    "\n",
    "print_age_purchasing['Avg Total Purchase per Person'] = print_age_purchasing['Avg Total Purchase per Person'].map('${:,.2f}'.format)\n",
    "print_age_purchasing"
   ]
  },
  {
   "cell_type": "markdown",
   "metadata": {},
   "source": [
    "## Top Spenders"
   ]
  },
  {
   "cell_type": "markdown",
   "metadata": {},
   "source": [
    "* Run basic calculations to obtain the results in the table below\n",
    "\n",
    "\n",
    "* Create a summary data frame to hold the results\n",
    "\n",
    "\n",
    "* Sort the total purchase value column in descending order\n",
    "\n",
    "\n",
    "* Optional: give the displayed data cleaner formatting\n",
    "\n",
    "\n",
    "* Display a preview of the summary data frame\n",
    "\n"
   ]
  },
  {
   "cell_type": "code",
   "execution_count": 26,
   "metadata": {},
   "outputs": [
    {
     "output_type": "execute_result",
     "data": {
      "text/plain": "             Purchase Count Average Purchase Price Total Purchase Value\nSN                                                                     \nLisosia93                 5                  $3.79               $18.96\nIdastidru52               4                  $3.86               $15.45\nChamjask73                3                  $4.61               $13.83\nIral74                    4                  $3.40               $13.62\nIskadarya95               3                  $4.37               $13.10",
      "text/html": "<div>\n<style scoped>\n    .dataframe tbody tr th:only-of-type {\n        vertical-align: middle;\n    }\n\n    .dataframe tbody tr th {\n        vertical-align: top;\n    }\n\n    .dataframe thead th {\n        text-align: right;\n    }\n</style>\n<table border=\"1\" class=\"dataframe\">\n  <thead>\n    <tr style=\"text-align: right;\">\n      <th></th>\n      <th>Purchase Count</th>\n      <th>Average Purchase Price</th>\n      <th>Total Purchase Value</th>\n    </tr>\n    <tr>\n      <th>SN</th>\n      <th></th>\n      <th></th>\n      <th></th>\n    </tr>\n  </thead>\n  <tbody>\n    <tr>\n      <th>Lisosia93</th>\n      <td>5</td>\n      <td>$3.79</td>\n      <td>$18.96</td>\n    </tr>\n    <tr>\n      <th>Idastidru52</th>\n      <td>4</td>\n      <td>$3.86</td>\n      <td>$15.45</td>\n    </tr>\n    <tr>\n      <th>Chamjask73</th>\n      <td>3</td>\n      <td>$4.61</td>\n      <td>$13.83</td>\n    </tr>\n    <tr>\n      <th>Iral74</th>\n      <td>4</td>\n      <td>$3.40</td>\n      <td>$13.62</td>\n    </tr>\n    <tr>\n      <th>Iskadarya95</th>\n      <td>3</td>\n      <td>$4.37</td>\n      <td>$13.10</td>\n    </tr>\n  </tbody>\n</table>\n</div>"
     },
     "metadata": {},
     "execution_count": 26
    }
   ],
   "source": [
    "# Create dataframe to hold count of spenders\n",
    "count_spenders = pd.DataFrame(purchase_data.groupby('SN').count())\n",
    "# create dataframe to sum purchase data grouped by spender\n",
    "top_spenders_df = pd.DataFrame(purchase_data.groupby('SN').sum())\n",
    "# sort dataframe by Price desc\n",
    "top_spenders_df = top_spenders_df.sort_values(\"Price\", ascending=False)\n",
    "# add purchase count column\n",
    "top_spenders_df['Purchase Count'] = count_spenders['Item ID']\n",
    "# Calculate average purchase price per spender\n",
    "top_spenders_df['Average Purchase Price'] = round(top_spenders_df['Price'] / top_spenders_df['Purchase Count'],2)\n",
    "# Rename price column to total purchase value\n",
    "top_spenders_df.rename(columns={'Price': 'Total Purchase Value'}, inplace=True)\n",
    "# remove unwanted columns\n",
    "top_spenders_df = top_spenders_df.loc[:,['Purchase Count', 'Average Purchase Price', 'Total Purchase Value']]\n",
    "# format columns as currency\n",
    "top_spenders_df['Average Purchase Price'] = top_spenders_df['Average Purchase Price'].map('${:,.2f}'.format)\n",
    "\n",
    "top_spenders_df['Total Purchase Value'] = top_spenders_df['Total Purchase Value'].map('${:,.2f}'.format) \n",
    "# Print top 5\n",
    "top_spenders_df.head()"
   ]
  },
  {
   "cell_type": "markdown",
   "metadata": {},
   "source": [
    "## Most Popular Items"
   ]
  },
  {
   "cell_type": "markdown",
   "metadata": {},
   "source": [
    "* Retrieve the Item ID, Item Name, and Item Price columns\n",
    "\n",
    "\n",
    "* Group by Item ID and Item Name. Perform calculations to obtain purchase count, item price, and total purchase value\n",
    "\n",
    "\n",
    "* Create a summary data frame to hold the results\n",
    "\n",
    "\n",
    "* Sort the purchase count column in descending order\n",
    "\n",
    "\n",
    "* Optional: give the displayed data cleaner formatting\n",
    "\n",
    "\n",
    "* Display a preview of the summary data frame\n",
    "\n"
   ]
  },
  {
   "cell_type": "code",
   "execution_count": 27,
   "metadata": {},
   "outputs": [
    {
     "output_type": "execute_result",
     "data": {
      "text/plain": "                                                      Purchase Count  \\\nItem ID Item Name                                                      \n92      Final Critic                                              13   \n178     Oathbreaker, Last Hope of the Breaking Storm              12   \n145     Fiery Glass Crusader                                       9   \n132     Persuasion                                                 9   \n108     Extraction, Quickblade Of Trembling Hands                  9   \n\n                                                     Item Price  \\\nItem ID Item Name                                                 \n92      Final Critic                                      $4.61   \n178     Oathbreaker, Last Hope of the Breaking Storm      $4.23   \n145     Fiery Glass Crusader                              $4.58   \n132     Persuasion                                        $3.22   \n108     Extraction, Quickblade Of Trembling Hands         $3.53   \n\n                                                     Total Purchase Value  \nItem ID Item Name                                                          \n92      Final Critic                                               $59.99  \n178     Oathbreaker, Last Hope of the Breaking Storm               $50.76  \n145     Fiery Glass Crusader                                       $41.22  \n132     Persuasion                                                 $28.99  \n108     Extraction, Quickblade Of Trembling Hands                  $31.77  ",
      "text/html": "<div>\n<style scoped>\n    .dataframe tbody tr th:only-of-type {\n        vertical-align: middle;\n    }\n\n    .dataframe tbody tr th {\n        vertical-align: top;\n    }\n\n    .dataframe thead th {\n        text-align: right;\n    }\n</style>\n<table border=\"1\" class=\"dataframe\">\n  <thead>\n    <tr style=\"text-align: right;\">\n      <th></th>\n      <th></th>\n      <th>Purchase Count</th>\n      <th>Item Price</th>\n      <th>Total Purchase Value</th>\n    </tr>\n    <tr>\n      <th>Item ID</th>\n      <th>Item Name</th>\n      <th></th>\n      <th></th>\n      <th></th>\n    </tr>\n  </thead>\n  <tbody>\n    <tr>\n      <th>92</th>\n      <th>Final Critic</th>\n      <td>13</td>\n      <td>$4.61</td>\n      <td>$59.99</td>\n    </tr>\n    <tr>\n      <th>178</th>\n      <th>Oathbreaker, Last Hope of the Breaking Storm</th>\n      <td>12</td>\n      <td>$4.23</td>\n      <td>$50.76</td>\n    </tr>\n    <tr>\n      <th>145</th>\n      <th>Fiery Glass Crusader</th>\n      <td>9</td>\n      <td>$4.58</td>\n      <td>$41.22</td>\n    </tr>\n    <tr>\n      <th>132</th>\n      <th>Persuasion</th>\n      <td>9</td>\n      <td>$3.22</td>\n      <td>$28.99</td>\n    </tr>\n    <tr>\n      <th>108</th>\n      <th>Extraction, Quickblade Of Trembling Hands</th>\n      <td>9</td>\n      <td>$3.53</td>\n      <td>$31.77</td>\n    </tr>\n  </tbody>\n</table>\n</div>"
     },
     "metadata": {},
     "execution_count": 27
    }
   ],
   "source": [
    "# Create new dataframe with the Item ID, Item Name, and Item Price columns\n",
    "items = purchase_data[['Item ID', 'Item Name', 'Price']]\n",
    "# create new dataframe to hold item counts\n",
    "items_count_df = pd.DataFrame(items.groupby(['Item ID', 'Item Name']).count())\n",
    "# create new dataframe to hold item sums\n",
    "items_sum_df = pd.DataFrame(items.groupby(['Item ID', 'Item Name']).sum())\n",
    "# Create Purchase Count column\n",
    "items_count_df['Purchase Count'] = items_count_df['Price']\n",
    "# Create Item Price column\n",
    "items_count_df['Item Price'] = round(items_sum_df['Price'] / items_count_df['Price'], 2)\n",
    "# Create Total Purchase Value\n",
    "items_count_df['Total Purchase Value'] = items_sum_df['Price']\n",
    "# Remove Price column\n",
    "del items_count_df['Price']\n",
    "# sort values based on Purchase count descending\n",
    "popular_items = items_count_df.sort_values(by=['Purchase Count'], ascending=False)\n",
    "# Format columns as currency\n",
    "popular_items['Item Price'] = popular_items['Item Price'].map('${:,.2f}'.format)\n",
    "popular_items['Total Purchase Value'] = popular_items['Total Purchase Value'].map('${:,.2f}'.format)\n",
    "# Print top 5 most profitable items\n",
    "popular_items.head()"
   ]
  },
  {
   "cell_type": "code",
   "execution_count": null,
   "metadata": {},
   "outputs": [],
   "source": []
  },
  {
   "cell_type": "markdown",
   "metadata": {},
   "source": [
    "## Most Profitable Items"
   ]
  },
  {
   "cell_type": "markdown",
   "metadata": {},
   "source": [
    "* Sort the above table by total purchase value in descending order\n",
    "\n",
    "\n",
    "* Optional: give the displayed data cleaner formatting\n",
    "\n",
    "\n",
    "* Display a preview of the data frame\n",
    "\n"
   ]
  },
  {
   "cell_type": "code",
   "execution_count": 28,
   "metadata": {},
   "outputs": [
    {
     "output_type": "execute_result",
     "data": {
      "text/plain": "                                                      Purchase Count  \\\nItem ID Item Name                                                      \n92      Final Critic                                              13   \n178     Oathbreaker, Last Hope of the Breaking Storm              12   \n82      Nirvana                                                    9   \n145     Fiery Glass Crusader                                       9   \n103     Singed Scalpel                                             8   \n\n                                                     Item Price  \\\nItem ID Item Name                                                 \n92      Final Critic                                      $4.61   \n178     Oathbreaker, Last Hope of the Breaking Storm      $4.23   \n82      Nirvana                                           $4.90   \n145     Fiery Glass Crusader                              $4.58   \n103     Singed Scalpel                                    $4.35   \n\n                                                     Total Purchase Value  \nItem ID Item Name                                                          \n92      Final Critic                                               $59.99  \n178     Oathbreaker, Last Hope of the Breaking Storm               $50.76  \n82      Nirvana                                                    $44.10  \n145     Fiery Glass Crusader                                       $41.22  \n103     Singed Scalpel                                             $34.80  ",
      "text/html": "<div>\n<style scoped>\n    .dataframe tbody tr th:only-of-type {\n        vertical-align: middle;\n    }\n\n    .dataframe tbody tr th {\n        vertical-align: top;\n    }\n\n    .dataframe thead th {\n        text-align: right;\n    }\n</style>\n<table border=\"1\" class=\"dataframe\">\n  <thead>\n    <tr style=\"text-align: right;\">\n      <th></th>\n      <th></th>\n      <th>Purchase Count</th>\n      <th>Item Price</th>\n      <th>Total Purchase Value</th>\n    </tr>\n    <tr>\n      <th>Item ID</th>\n      <th>Item Name</th>\n      <th></th>\n      <th></th>\n      <th></th>\n    </tr>\n  </thead>\n  <tbody>\n    <tr>\n      <th>92</th>\n      <th>Final Critic</th>\n      <td>13</td>\n      <td>$4.61</td>\n      <td>$59.99</td>\n    </tr>\n    <tr>\n      <th>178</th>\n      <th>Oathbreaker, Last Hope of the Breaking Storm</th>\n      <td>12</td>\n      <td>$4.23</td>\n      <td>$50.76</td>\n    </tr>\n    <tr>\n      <th>82</th>\n      <th>Nirvana</th>\n      <td>9</td>\n      <td>$4.90</td>\n      <td>$44.10</td>\n    </tr>\n    <tr>\n      <th>145</th>\n      <th>Fiery Glass Crusader</th>\n      <td>9</td>\n      <td>$4.58</td>\n      <td>$41.22</td>\n    </tr>\n    <tr>\n      <th>103</th>\n      <th>Singed Scalpel</th>\n      <td>8</td>\n      <td>$4.35</td>\n      <td>$34.80</td>\n    </tr>\n  </tbody>\n</table>\n</div>"
     },
     "metadata": {},
     "execution_count": 28
    }
   ],
   "source": [
    "profitable_items = items_count_df.sort_values(by=['Total Purchase Value'], ascending=False)\n",
    "# Format columns as currency\n",
    "profitable_items['Item Price'] = profitable_items['Item Price'].map('${:,.2f}'.format)\n",
    "profitable_items['Total Purchase Value'] = profitable_items['Total Purchase Value'].map('${:,.2f}'.format)\n",
    "# Print top 5 most profitable items\n",
    "profitable_items.head()"
   ]
  },
  {
   "cell_type": "code",
   "execution_count": 38,
   "metadata": {
    "tags": []
   },
   "outputs": [
    {
     "output_type": "stream",
     "name": "stdout",
     "text": "Trend 1:\nHeroes of Pymoli is more than 5 times as popular for males compared to females. Males also brought in over $1,600 more for the company than females did. Thus, the company should work on some female directed marketing campaigns to help bring more females to buy the game.\n\nTrend 2:\nThe age group Purchase Count and Total Purchase Value data forms a bell curve, because the data increases up to age 20-24, then they both decrease from there as people get older. The company should market more to the younger and older crowds to help bring in more revenue.\n\nTrend 3:\nThere is an obvious positive relationship between item popularity and item profitability. The items that are most popular amongst players will be the items that are most frequently bought. If there are items they are struggling to sell, they need to work with marketing to get the name out to get people talking about that item more. Once you get the popularity of the item up, it is bound to bring in more purchases.\n"
    }
   ],
   "source": [
    "# Print three observable trends based on the data\n",
    "trend1 = 'Trend 1:\\nHeroes of Pymoli is more than 5 times as popular for males compared to females. Males also brought in over $1,600 more for the company than females did. Thus, the company should work on some female directed marketing campaigns to help bring more females to buy the game.\\n'\n",
    "trend2 = \"Trend 2:\\nThe age group Purchase Count and Total Purchase Value data forms a bell curve, because the data increases up to age 20-24, then they both decrease from there as people get older. The company should market more to the younger and older crowds to help bring in more revenue.\\n\"\n",
    "trend3 = 'Trend 3:\\nThere is an obvious positive relationship between item popularity and item profitability. The items that are most popular amongst players will be the items that are most frequently bought. If there are items they are struggling to sell, they need to work with marketing to get the name out to get people talking about that item more. Once you get the popularity of the item up, it is bound to bring in more purchases.'\n",
    "print(trend1)\n",
    "\n",
    "print(trend2)\n",
    "\n",
    "print(trend3)"
   ]
  },
  {
   "cell_type": "code",
   "execution_count": null,
   "metadata": {},
   "outputs": [],
   "source": []
  }
 ],
 "metadata": {
  "anaconda-cloud": {},
  "kernel_info": {
   "name": "python3"
  },
  "kernelspec": {
   "display_name": "Python 3.6.10 64-bit ('bcs': conda)",
   "language": "python",
   "name": "python_defaultSpec_1598465093742"
  },
  "language_info": {
   "codemirror_mode": {
    "name": "ipython",
    "version": 3
   },
   "file_extension": ".py",
   "mimetype": "text/x-python",
   "name": "python",
   "nbconvert_exporter": "python",
   "pygments_lexer": "ipython3",
   "version": "3.6.10-final"
  },
  "latex_envs": {
   "LaTeX_envs_menu_present": true,
   "autoclose": false,
   "autocomplete": true,
   "bibliofile": "biblio.bib",
   "cite_by": "apalike",
   "current_citInitial": 1,
   "eqLabelWithNumbers": true,
   "eqNumInitial": 1,
   "hotkeys": {
    "equation": "Ctrl-E",
    "itemize": "Ctrl-I"
   },
   "labels_anchors": false,
   "latex_user_defs": false,
   "report_style_numbering": false,
   "user_envs_cfg": false
  },
  "nteract": {
   "version": "0.2.0"
  }
 },
 "nbformat": 4,
 "nbformat_minor": 2
}