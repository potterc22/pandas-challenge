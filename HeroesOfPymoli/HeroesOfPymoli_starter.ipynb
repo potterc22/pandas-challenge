{
 "cells": [
  {
   "cell_type": "markdown",
   "metadata": {},
   "source": [
    "### Note\n",
    "* Instructions have been included for each segment. You do not have to follow them exactly, but they are included to help you think through the steps."
   ]
  },
  {
   "cell_type": "code",
   "execution_count": 1,
   "metadata": {},
   "outputs": [],
   "source": [
    "# Dependencies and Setup\n",
    "import pandas as pd\n",
    "\n",
    "# File to Load (Remember to Change These)\n",
    "file_to_load = \"Resources/purchase_data.csv\"\n",
    "\n",
    "# Read Purchasing File and store into Pandas data frame\n",
    "purchase_data = pd.read_csv(file_to_load)"
   ]
  },
  {
   "cell_type": "markdown",
   "metadata": {},
   "source": [
    "## Player Count"
   ]
  },
  {
   "cell_type": "markdown",
   "metadata": {},
   "source": [
    "* Display the total number of players\n"
   ]
  },
  {
   "cell_type": "code",
   "execution_count": 2,
   "metadata": {},
   "outputs": [
    {
     "output_type": "execute_result",
     "data": {
      "text/plain": "   Total Players\n0            576",
      "text/html": "<div>\n<style scoped>\n    .dataframe tbody tr th:only-of-type {\n        vertical-align: middle;\n    }\n\n    .dataframe tbody tr th {\n        vertical-align: top;\n    }\n\n    .dataframe thead th {\n        text-align: right;\n    }\n</style>\n<table border=\"1\" class=\"dataframe\">\n  <thead>\n    <tr style=\"text-align: right;\">\n      <th></th>\n      <th>Total Players</th>\n    </tr>\n  </thead>\n  <tbody>\n    <tr>\n      <th>0</th>\n      <td>576</td>\n    </tr>\n  </tbody>\n</table>\n</div>"
     },
     "metadata": {},
     "execution_count": 2
    }
   ],
   "source": [
    "total_players = len(purchase_data['SN'].unique())\n",
    "print_total_players = pd.DataFrame({\"Total Players\": [total_players]})\n",
    "print_total_players"
   ]
  },
  {
   "cell_type": "markdown",
   "metadata": {},
   "source": [
    "## Purchasing Analysis (Total)"
   ]
  },
  {
   "cell_type": "markdown",
   "metadata": {},
   "source": [
    "* Run basic calculations to obtain number of unique items, average price, etc.\n",
    "\n",
    "\n",
    "* Create a summary data frame to hold the results\n",
    "\n",
    "\n",
    "* Optional: give the displayed data cleaner formatting\n",
    "\n",
    "\n",
    "* Display the summary data frame\n"
   ]
  },
  {
   "cell_type": "code",
   "execution_count": 3,
   "metadata": {},
   "outputs": [
    {
     "output_type": "execute_result",
     "data": {
      "text/plain": "<pandas.io.formats.style.Styler at 0x19001917390>",
      "text/html": "<style  type=\"text/css\" >\n</style><table id=\"T_7ac5e45e_e63c_11ea_8a66_3c58c2ce45e0\" ><thead>    <tr>        <th class=\"blank level0\" ></th>        <th class=\"col_heading level0 col0\" >Number of Unique Items</th>        <th class=\"col_heading level0 col1\" >Average Purchase Price</th>        <th class=\"col_heading level0 col2\" >Total Number of Purchases</th>        <th class=\"col_heading level0 col3\" >Total Revenue</th>    </tr></thead><tbody>\n                <tr>\n                        <th id=\"T_7ac5e45e_e63c_11ea_8a66_3c58c2ce45e0level0_row0\" class=\"row_heading level0 row0\" >0</th>\n                        <td id=\"T_7ac5e45e_e63c_11ea_8a66_3c58c2ce45e0row0_col0\" class=\"data row0 col0\" >179</td>\n                        <td id=\"T_7ac5e45e_e63c_11ea_8a66_3c58c2ce45e0row0_col1\" class=\"data row0 col1\" >$3.05</td>\n                        <td id=\"T_7ac5e45e_e63c_11ea_8a66_3c58c2ce45e0row0_col2\" class=\"data row0 col2\" >780</td>\n                        <td id=\"T_7ac5e45e_e63c_11ea_8a66_3c58c2ce45e0row0_col3\" class=\"data row0 col3\" >$2379.77</td>\n            </tr>\n    </tbody></table>"
     },
     "metadata": {},
     "execution_count": 3
    }
   ],
   "source": [
    "# Found the nunique() function here https://pandas.pydata.org/pandas-docs/stable/reference/api/pandas.Series.nunique.html\n",
    "# Calculate each value\n",
    "unique_items = purchase_data[\"Item Name\"].nunique()\n",
    "avg_price = round(purchase_data[\"Price\"].mean(),2)\n",
    "total_purchases = purchase_data['Purchase ID'].nunique()\n",
    "total_revenue = purchase_data['Price'].sum()\n",
    "#print the output table\n",
    "print_purchasing_analysis = pd.DataFrame({\n",
    "    'Number of Unique Items': [unique_items],\n",
    "    'Average Purchase Price': [avg_price],\n",
    "    'Total Number of Purchases': [total_purchases],\n",
    "    'Total Revenue': [total_revenue]\n",
    "})\n",
    "# found how to format columns here: https://pandas.pydata.org/pandas-docs/stable/user_guide/style.html\n",
    "print_purchasing_analysis.style.format({'Average Purchase Price': '${:.2f}', 'Total Revenue': '${:.2f}'})"
   ]
  },
  {
   "cell_type": "markdown",
   "metadata": {},
   "source": [
    "## Gender Demographics"
   ]
  },
  {
   "cell_type": "markdown",
   "metadata": {},
   "source": [
    "* Percentage and Count of Male Players\n",
    "\n",
    "\n",
    "* Percentage and Count of Female Players\n",
    "\n",
    "\n",
    "* Percentage and Count of Other / Non-Disclosed\n",
    "\n",
    "\n"
   ]
  },
  {
   "cell_type": "code",
   "execution_count": 4,
   "metadata": {},
   "outputs": [],
   "source": [
    "# Calculate Percentage and Count of Male Players\n",
    "male_data = purchase_data.loc[purchase_data[\"Gender\"] == 'Male',:]\n",
    "male_players = male_data['SN'].nunique()\n",
    "male_percentage = round((male_players/total_players) * 100,2)\n"
   ]
  },
  {
   "cell_type": "code",
   "execution_count": 5,
   "metadata": {},
   "outputs": [],
   "source": [
    "# Calculate Percentage and Count of Female Players\n",
    "female_data = purchase_data.loc[purchase_data[\"Gender\"] == 'Female',:]\n",
    "female_players = female_data['SN'].nunique()\n",
    "female_percentage = round((female_players/total_players) * 100,2)"
   ]
  },
  {
   "cell_type": "code",
   "execution_count": 6,
   "metadata": {},
   "outputs": [],
   "source": [
    "# Percentage and Count of Female Players\n",
    "other_data = purchase_data.loc[purchase_data[\"Gender\"] == 'Other / Non-Disclosed',:]\n",
    "other_players = other_data['SN'].nunique()\n",
    "other_percentage = round((other_players/total_players) * 100,2)"
   ]
  },
  {
   "cell_type": "code",
   "execution_count": 7,
   "metadata": {},
   "outputs": [
    {
     "output_type": "execute_result",
     "data": {
      "text/plain": "<pandas.io.formats.style.Styler at 0x190018c9358>",
      "text/html": "<style  type=\"text/css\" >\n</style><table id=\"T_7e0c6d2c_e63c_11ea_85eb_3c58c2ce45e0\" ><thead>    <tr>        <th class=\"blank level0\" ></th>        <th class=\"col_heading level0 col0\" >Total Count</th>        <th class=\"col_heading level0 col1\" >Percentage of Players</th>    </tr>    <tr>        <th class=\"index_name level0\" >Gender</th>        <th class=\"blank\" ></th>        <th class=\"blank\" ></th>    </tr></thead><tbody>\n                <tr>\n                        <th id=\"T_7e0c6d2c_e63c_11ea_85eb_3c58c2ce45e0level0_row0\" class=\"row_heading level0 row0\" >Male</th>\n                        <td id=\"T_7e0c6d2c_e63c_11ea_85eb_3c58c2ce45e0row0_col0\" class=\"data row0 col0\" >484</td>\n                        <td id=\"T_7e0c6d2c_e63c_11ea_85eb_3c58c2ce45e0row0_col1\" class=\"data row0 col1\" >84.03%</td>\n            </tr>\n            <tr>\n                        <th id=\"T_7e0c6d2c_e63c_11ea_85eb_3c58c2ce45e0level0_row1\" class=\"row_heading level0 row1\" >Female</th>\n                        <td id=\"T_7e0c6d2c_e63c_11ea_85eb_3c58c2ce45e0row1_col0\" class=\"data row1 col0\" >81</td>\n                        <td id=\"T_7e0c6d2c_e63c_11ea_85eb_3c58c2ce45e0row1_col1\" class=\"data row1 col1\" >14.06%</td>\n            </tr>\n            <tr>\n                        <th id=\"T_7e0c6d2c_e63c_11ea_85eb_3c58c2ce45e0level0_row2\" class=\"row_heading level0 row2\" >Other/Non-Disclosed</th>\n                        <td id=\"T_7e0c6d2c_e63c_11ea_85eb_3c58c2ce45e0row2_col0\" class=\"data row2 col0\" >11</td>\n                        <td id=\"T_7e0c6d2c_e63c_11ea_85eb_3c58c2ce45e0row2_col1\" class=\"data row2 col1\" >1.91%</td>\n            </tr>\n    </tbody></table>"
     },
     "metadata": {},
     "execution_count": 7
    }
   ],
   "source": [
    "# Print output\n",
    "print_gender_demographics = pd.DataFrame({\n",
    "    \"Gender\": ['Male', 'Female', 'Other/Non-Disclosed'],\n",
    "    'Total Count': [male_players, female_players, other_players],\n",
    "    'Percentage of Players': [male_percentage, female_percentage, other_percentage]\n",
    "    })\n",
    "# set index to genders to get rid of the index numbers\n",
    "print_gender_demographics = print_gender_demographics.set_index(\"Gender\")\n",
    "# Format for percentages\n",
    "print_gender_demographics.style.format({'Percentage of Players': '{:.2f}%'})\n"
   ]
  },
  {
   "cell_type": "markdown",
   "metadata": {},
   "source": [
    "\n",
    "## Purchasing Analysis (Gender)"
   ]
  },
  {
   "cell_type": "markdown",
   "metadata": {},
   "source": [
    "* Run basic calculations to obtain purchase count, avg. purchase price, avg. purchase total per person etc. by gender\n",
    "\n",
    "\n",
    "\n",
    "\n",
    "* Create a summary data frame to hold the results\n",
    "\n",
    "\n",
    "* Optional: give the displayed data cleaner formatting\n",
    "\n",
    "\n",
    "* Display the summary data frame"
   ]
  },
  {
   "cell_type": "code",
   "execution_count": 8,
   "metadata": {},
   "outputs": [],
   "source": [
    "# Male Purchase Count\n",
    "male_purchase_count = male_data['Purchase ID'].nunique()\n",
    "# Male Average Purchase Price\n",
    "male_avg_price = round(male_data['Price'].mean(),2)\n",
    "# Male Total Purchase Value\n",
    "male_total_purchases = male_data['Price'].sum()\n",
    "# Male Average Purchase total per Person by Gender\n",
    "male_avg_per_person = round(male_total_purchases / male_players, 2)"
   ]
  },
  {
   "cell_type": "code",
   "execution_count": 9,
   "metadata": {
    "tags": []
   },
   "outputs": [],
   "source": [
    "# Female Purchase Count\n",
    "female_purchase_count = female_data['Purchase ID'].nunique()\n",
    "# Female Average Purchase Price\n",
    "female_avg_price = round(female_data['Price'].mean(),2)\n",
    "# Female Total Purchase Value\n",
    "female_total_purchases = female_data['Price'].sum()\n",
    "# Female Average Purchase total per person by gender\n",
    "female_avg_per_person = round(female_total_purchases / female_players, 2)"
   ]
  },
  {
   "cell_type": "code",
   "execution_count": 10,
   "metadata": {},
   "outputs": [],
   "source": [
    "# Other/Non-Disclosed Purchase Count\n",
    "other_purchase_count = other_data['Purchase ID'].nunique()\n",
    "# Other/Non-Disclosed Average Purchase Price\n",
    "other_avg_price = round(other_data['Price'].mean(),2)\n",
    "# Other/Non-Disclosed Total Purchase Value\n",
    "other_total_purchases = other_data['Price'].sum()\n",
    "# Other/Non-Disclosed Average Purchase Total per Person by Gender\n",
    "other_avg_per_person = round(other_total_purchases / other_players, 2)"
   ]
  },
  {
   "cell_type": "code",
   "execution_count": 11,
   "metadata": {},
   "outputs": [
    {
     "output_type": "execute_result",
     "data": {
      "text/plain": "<pandas.io.formats.style.Styler at 0x1900295fef0>",
      "text/html": "<style  type=\"text/css\" >\n</style><table id=\"T_82bad6d0_e63c_11ea_9665_3c58c2ce45e0\" ><thead>    <tr>        <th class=\"blank level0\" ></th>        <th class=\"col_heading level0 col0\" >Purchase Count</th>        <th class=\"col_heading level0 col1\" >Average Purchase Price</th>        <th class=\"col_heading level0 col2\" >Total Purchase Value</th>        <th class=\"col_heading level0 col3\" >Avg Total Purchase per Person</th>    </tr>    <tr>        <th class=\"index_name level0\" >Gender</th>        <th class=\"blank\" ></th>        <th class=\"blank\" ></th>        <th class=\"blank\" ></th>        <th class=\"blank\" ></th>    </tr></thead><tbody>\n                <tr>\n                        <th id=\"T_82bad6d0_e63c_11ea_9665_3c58c2ce45e0level0_row0\" class=\"row_heading level0 row0\" >Male</th>\n                        <td id=\"T_82bad6d0_e63c_11ea_9665_3c58c2ce45e0row0_col0\" class=\"data row0 col0\" >652</td>\n                        <td id=\"T_82bad6d0_e63c_11ea_9665_3c58c2ce45e0row0_col1\" class=\"data row0 col1\" >$3.02</td>\n                        <td id=\"T_82bad6d0_e63c_11ea_9665_3c58c2ce45e0row0_col2\" class=\"data row0 col2\" >$1967.64</td>\n                        <td id=\"T_82bad6d0_e63c_11ea_9665_3c58c2ce45e0row0_col3\" class=\"data row0 col3\" >$4.07</td>\n            </tr>\n            <tr>\n                        <th id=\"T_82bad6d0_e63c_11ea_9665_3c58c2ce45e0level0_row1\" class=\"row_heading level0 row1\" >Female</th>\n                        <td id=\"T_82bad6d0_e63c_11ea_9665_3c58c2ce45e0row1_col0\" class=\"data row1 col0\" >113</td>\n                        <td id=\"T_82bad6d0_e63c_11ea_9665_3c58c2ce45e0row1_col1\" class=\"data row1 col1\" >$3.20</td>\n                        <td id=\"T_82bad6d0_e63c_11ea_9665_3c58c2ce45e0row1_col2\" class=\"data row1 col2\" >$361.94</td>\n                        <td id=\"T_82bad6d0_e63c_11ea_9665_3c58c2ce45e0row1_col3\" class=\"data row1 col3\" >$4.47</td>\n            </tr>\n            <tr>\n                        <th id=\"T_82bad6d0_e63c_11ea_9665_3c58c2ce45e0level0_row2\" class=\"row_heading level0 row2\" >Other/Non-Disclosed</th>\n                        <td id=\"T_82bad6d0_e63c_11ea_9665_3c58c2ce45e0row2_col0\" class=\"data row2 col0\" >15</td>\n                        <td id=\"T_82bad6d0_e63c_11ea_9665_3c58c2ce45e0row2_col1\" class=\"data row2 col1\" >$3.35</td>\n                        <td id=\"T_82bad6d0_e63c_11ea_9665_3c58c2ce45e0row2_col2\" class=\"data row2 col2\" >$50.19</td>\n                        <td id=\"T_82bad6d0_e63c_11ea_9665_3c58c2ce45e0row2_col3\" class=\"data row2 col3\" >$4.56</td>\n            </tr>\n    </tbody></table>"
     },
     "metadata": {},
     "execution_count": 11
    }
   ],
   "source": [
    "# Print output\n",
    "print_gender_purchasing = pd.DataFrame({\n",
    "    \"Gender\": ['Male', 'Female', 'Other/Non-Disclosed'],\n",
    "    'Purchase Count': [male_purchase_count, female_purchase_count, other_purchase_count],\n",
    "    'Average Purchase Price': [male_avg_price, female_avg_price, other_avg_price],\n",
    "    'Total Purchase Value': [male_total_purchases, female_total_purchases, other_total_purchases],\n",
    "    'Avg Total Purchase per Person': [male_avg_per_person, female_avg_per_person, other_avg_per_person]\n",
    "    })\n",
    "# set index to genders to get rid of the index numbers\n",
    "print_gender_purchasing = print_gender_purchasing.set_index(\"Gender\")\n",
    "# format the price columns as currency\n",
    "print_gender_purchasing.style.format({'Average Purchase Price': '${:.2f}', 'Total Purchase Value': '${:.2f}', 'Avg Total Purchase per Person': '${:.2f}'})"
   ]
  },
  {
   "cell_type": "code",
   "execution_count": 5,
   "metadata": {},
   "outputs": [
    {
     "data": {
      "text/html": [
       "<div>\n",
       "<style scoped>\n",
       "    .dataframe tbody tr th:only-of-type {\n",
       "        vertical-align: middle;\n",
       "    }\n",
       "\n",
       "    .dataframe tbody tr th {\n",
       "        vertical-align: top;\n",
       "    }\n",
       "\n",
       "    .dataframe thead th {\n",
       "        text-align: right;\n",
       "    }\n",
       "</style>\n",
       "<table border=\"1\" class=\"dataframe\">\n",
       "  <thead>\n",
       "    <tr style=\"text-align: right;\">\n",
       "      <th></th>\n",
       "      <th>Purchase Count</th>\n",
       "      <th>Average Purchase Price</th>\n",
       "      <th>Total Purchase Value</th>\n",
       "      <th>Avg Total Purchase per Person</th>\n",
       "    </tr>\n",
       "    <tr>\n",
       "      <th>Gender</th>\n",
       "      <th></th>\n",
       "      <th></th>\n",
       "      <th></th>\n",
       "      <th></th>\n",
       "    </tr>\n",
       "  </thead>\n",
       "  <tbody>\n",
       "    <tr>\n",
       "      <th>Female</th>\n",
       "      <td>113</td>\n",
       "      <td>$3.20</td>\n",
       "      <td>$361.94</td>\n",
       "      <td>$4.47</td>\n",
       "    </tr>\n",
       "    <tr>\n",
       "      <th>Male</th>\n",
       "      <td>652</td>\n",
       "      <td>$3.02</td>\n",
       "      <td>$1,967.64</td>\n",
       "      <td>$4.07</td>\n",
       "    </tr>\n",
       "    <tr>\n",
       "      <th>Other / Non-Disclosed</th>\n",
       "      <td>15</td>\n",
       "      <td>$3.35</td>\n",
       "      <td>$50.19</td>\n",
       "      <td>$4.56</td>\n",
       "    </tr>\n",
       "  </tbody>\n",
       "</table>\n",
       "</div>"
      ],
      "text/plain": [
       "                      Purchase Count Average Purchase Price  \\\n",
       "Gender                                                        \n",
       "Female                           113                  $3.20   \n",
       "Male                             652                  $3.02   \n",
       "Other / Non-Disclosed             15                  $3.35   \n",
       "\n",
       "                      Total Purchase Value Avg Total Purchase per Person  \n",
       "Gender                                                                    \n",
       "Female                             $361.94                         $4.47  \n",
       "Male                             $1,967.64                         $4.07  \n",
       "Other / Non-Disclosed               $50.19                         $4.56  "
      ]
     },
     "execution_count": 5,
     "metadata": {},
     "output_type": "execute_result"
    }
   ],
   "source": []
  },
  {
   "cell_type": "markdown",
   "metadata": {},
   "source": [
    "## Age Demographics"
   ]
  },
  {
   "cell_type": "markdown",
   "metadata": {},
   "source": [
    "* Establish bins for ages\n",
    "\n",
    "\n",
    "* Categorize the existing players using the age bins. Hint: use pd.cut()\n",
    "\n",
    "\n",
    "* Calculate the numbers and percentages by age group\n",
    "\n",
    "\n",
    "* Create a summary data frame to hold the results\n",
    "\n",
    "\n",
    "* Optional: round the percentage column to two decimal points\n",
    "\n",
    "\n",
    "* Display Age Demographics Table\n"
   ]
  },
  {
   "cell_type": "code",
   "execution_count": 13,
   "metadata": {},
   "outputs": [
    {
     "output_type": "execute_result",
     "data": {
      "text/plain": "          Total Count  Percentage of Players\nAge Bins                                    \n<10                17                   2.18\n10-14              32                   4.10\n15-19             115                  14.74\n20-24             321                  41.15\n25-29             155                  19.87\n30-34              77                   9.87\n35-39              44                   5.64\n40+                19                   2.44",
      "text/html": "<div>\n<style scoped>\n    .dataframe tbody tr th:only-of-type {\n        vertical-align: middle;\n    }\n\n    .dataframe tbody tr th {\n        vertical-align: top;\n    }\n\n    .dataframe thead th {\n        text-align: right;\n    }\n</style>\n<table border=\"1\" class=\"dataframe\">\n  <thead>\n    <tr style=\"text-align: right;\">\n      <th></th>\n      <th>Total Count</th>\n      <th>Percentage of Players</th>\n    </tr>\n    <tr>\n      <th>Age Bins</th>\n      <th></th>\n      <th></th>\n    </tr>\n  </thead>\n  <tbody>\n    <tr>\n      <th>&lt;10</th>\n      <td>17</td>\n      <td>2.18</td>\n    </tr>\n    <tr>\n      <th>10-14</th>\n      <td>32</td>\n      <td>4.10</td>\n    </tr>\n    <tr>\n      <th>15-19</th>\n      <td>115</td>\n      <td>14.74</td>\n    </tr>\n    <tr>\n      <th>20-24</th>\n      <td>321</td>\n      <td>41.15</td>\n    </tr>\n    <tr>\n      <th>25-29</th>\n      <td>155</td>\n      <td>19.87</td>\n    </tr>\n    <tr>\n      <th>30-34</th>\n      <td>77</td>\n      <td>9.87</td>\n    </tr>\n    <tr>\n      <th>35-39</th>\n      <td>44</td>\n      <td>5.64</td>\n    </tr>\n    <tr>\n      <th>40+</th>\n      <td>19</td>\n      <td>2.44</td>\n    </tr>\n  </tbody>\n</table>\n</div>"
     },
     "metadata": {},
     "execution_count": 13
    }
   ],
   "source": [
    "# Found an article on pd.cut(): https://www.geeksforgeeks.org/pandas-cut-method-in-python/\n",
    "# create list for age bins\n",
    "age_bins = [0, 9, 14, 19, 24, 29, 34, 39, 100]\n",
    "# Declare bin labels\n",
    "bin_labels = ['<10', '10-14', '15-19', '20-24', '25-29', '30-34', '35-39', '40+']\n",
    "# Use pd.cut() to split data into age bins\n",
    "pd.cut(x=purchase_data['Age'], bins=age_bins, labels= bin_labels)\n",
    "purchase_data['Age Bins'] = pd.cut(x=purchase_data['Age'], bins= age_bins, labels=bin_labels, right = False)\n",
    "# Group the purchase data by age group\n",
    "pd_by_age = purchase_data.groupby(['Age Bins'])\n",
    "pd_by_age_df = pd.DataFrame(pd_by_age['SN'].count())\n",
    "pd_by_age_df.rename(columns={'SN':'Total Count'}, inplace=True)\n",
    "pd_by_age_df['Percentage of Players'] = round((pd_by_age_df['Total Count'] /pd_by_age_df['Total Count'].sum()) * 100, 2)\n",
    "pd_by_age_df.style.format({'Percentage of Players': '{:.2f}%'})\n",
    "pd_by_age_df"
   ]
  },
  {
   "cell_type": "code",
   "execution_count": 6,
   "metadata": {},
   "outputs": [
    {
     "data": {
      "text/html": [
       "<div>\n",
       "<style scoped>\n",
       "    .dataframe tbody tr th:only-of-type {\n",
       "        vertical-align: middle;\n",
       "    }\n",
       "\n",
       "    .dataframe tbody tr th {\n",
       "        vertical-align: top;\n",
       "    }\n",
       "\n",
       "    .dataframe thead th {\n",
       "        text-align: right;\n",
       "    }\n",
       "</style>\n",
       "<table border=\"1\" class=\"dataframe\">\n",
       "  <thead>\n",
       "    <tr style=\"text-align: right;\">\n",
       "      <th></th>\n",
       "      <th>Total Count</th>\n",
       "      <th>Percentage of Players</th>\n",
       "    </tr>\n",
       "  </thead>\n",
       "  <tbody>\n",
       "    <tr>\n",
       "      <th>&lt;10</th>\n",
       "      <td>17</td>\n",
       "      <td>2.95%</td>\n",
       "    </tr>\n",
       "    <tr>\n",
       "      <th>10-14</th>\n",
       "      <td>22</td>\n",
       "      <td>3.82%</td>\n",
       "    </tr>\n",
       "    <tr>\n",
       "      <th>15-19</th>\n",
       "      <td>107</td>\n",
       "      <td>18.58%</td>\n",
       "    </tr>\n",
       "    <tr>\n",
       "      <th>20-24</th>\n",
       "      <td>258</td>\n",
       "      <td>44.79%</td>\n",
       "    </tr>\n",
       "    <tr>\n",
       "      <th>25-29</th>\n",
       "      <td>77</td>\n",
       "      <td>13.37%</td>\n",
       "    </tr>\n",
       "    <tr>\n",
       "      <th>30-34</th>\n",
       "      <td>52</td>\n",
       "      <td>9.03%</td>\n",
       "    </tr>\n",
       "    <tr>\n",
       "      <th>35-39</th>\n",
       "      <td>31</td>\n",
       "      <td>5.38%</td>\n",
       "    </tr>\n",
       "    <tr>\n",
       "      <th>40+</th>\n",
       "      <td>12</td>\n",
       "      <td>2.08%</td>\n",
       "    </tr>\n",
       "  </tbody>\n",
       "</table>\n",
       "</div>"
      ],
      "text/plain": [
       "       Total Count Percentage of Players\n",
       "<10             17                 2.95%\n",
       "10-14           22                 3.82%\n",
       "15-19          107                18.58%\n",
       "20-24          258                44.79%\n",
       "25-29           77                13.37%\n",
       "30-34           52                 9.03%\n",
       "35-39           31                 5.38%\n",
       "40+             12                 2.08%"
      ]
     },
     "execution_count": 6,
     "metadata": {},
     "output_type": "execute_result"
    }
   ],
   "source": []
  },
  {
   "cell_type": "markdown",
   "metadata": {},
   "source": [
    "## Purchasing Analysis (Age)"
   ]
  },
  {
   "cell_type": "markdown",
   "metadata": {},
   "source": [
    "* Bin the purchase_data data frame by age\n",
    "\n",
    "\n",
    "* Run basic calculations to obtain purchase count, avg. purchase price, avg. purchase total per person etc. in the table below\n",
    "\n",
    "\n",
    "* Create a summary data frame to hold the results\n",
    "\n",
    "\n",
    "* Optional: give the displayed data cleaner formatting\n",
    "\n",
    "\n",
    "* Display the summary data frame"
   ]
  },
  {
   "cell_type": "code",
   "execution_count": 14,
   "metadata": {},
   "outputs": [],
   "source": [
    "# Less than 10 years old\n",
    "age_less_10 = purchase_data.loc[purchase_data[\"Age\"] < 10 ,:]\n",
    "# Less than 10 Purchase Count\n",
    "purchase_count_less_10 = age_less_10['Purchase ID'].nunique()\n",
    "# Less than 10 Average Purchase Price\n",
    "avg_price_less_10 = round(age_less_10['Price'].mean(),2)\n",
    "# Less than 10 Total Purchase Value\n",
    "total_purchases_less_10 = age_less_10['Price'].sum()\n",
    "# Calculate total players less than 10\n",
    "less_10_players = age_less_10['SN'].nunique()\n",
    "# Less than 10 Average Purchase Total per Person\n",
    "less_10_avg_per_person = round(total_purchases_less_10 / less_10_players, 2)"
   ]
  },
  {
   "cell_type": "code",
   "execution_count": 15,
   "metadata": {
    "tags": []
   },
   "outputs": [],
   "source": [
    "# Age 10-14\n",
    "age_10_14 = purchase_data.loc[(purchase_data[\"Age\"] >= 10) & (purchase_data[\"Age\"] <= 14),:]\n",
    "# 10-14 Purchase Count\n",
    "purchase_count_10_14 = age_10_14['Purchase ID'].nunique()\n",
    "# 10-14 Average Purchase Price\n",
    "avg_price_10_14 = round(age_10_14['Price'].mean(),2)\n",
    "# 10-14 Total Purchase Value\n",
    "total_purchases_10_14 = age_10_14['Price'].sum()\n",
    "# Calculate total players between 10-14\n",
    "age_10_14_players = age_10_14['SN'].nunique()\n",
    "# 10-14 Average Purchase Total per Person\n",
    "age_10_14_avg_per_person = round(total_purchases_10_14 / age_10_14_players, 2)"
   ]
  },
  {
   "cell_type": "code",
   "execution_count": 16,
   "metadata": {},
   "outputs": [],
   "source": [
    "# Age 15-19\n",
    "age_15_19 = purchase_data.loc[(purchase_data[\"Age\"] >= 15) & (purchase_data[\"Age\"] <= 19),:]\n",
    "# 15-19 Purchase Count\n",
    "purchase_count_15_19 = age_15_19['Purchase ID'].nunique()\n",
    "# 15-19 Average Purchase Price\n",
    "avg_price_15_19 = round(age_15_19['Price'].mean(),2)\n",
    "# 15-19 Total Purchase Value\n",
    "total_purchases_15_19 = age_15_19['Price'].sum()\n",
    "# Calculate total players between 15-19\n",
    "age_15_19_players = age_15_19['SN'].nunique()\n",
    "# 15-19 Average Purchase Total per Person\n",
    "age_15_19_avg_per_person = round(total_purchases_15_19 / age_15_19_players, 2)"
   ]
  },
  {
   "cell_type": "code",
   "execution_count": 17,
   "metadata": {},
   "outputs": [],
   "source": [
    "# Age 20-24\n",
    "age_20_24 = purchase_data.loc[(purchase_data[\"Age\"] >= 20) & (purchase_data[\"Age\"] <= 24),:]\n",
    "# 20-24 Purchase Count\n",
    "purchase_count_20_24 = age_20_24['Purchase ID'].nunique()\n",
    "# 20-24 Average Purchase Price\n",
    "avg_price_20_24 = round(age_20_24['Price'].mean(),2)\n",
    "# 20-24 Total Purchase Value\n",
    "total_purchases_20_24 = age_20_24['Price'].sum()\n",
    "# Calculate total players between 20-24\n",
    "age_20_24_players = age_20_24['SN'].nunique()\n",
    "# 20-24 Average Purchase Total per Person\n",
    "age_20_24_avg_per_person = round(total_purchases_20_24 / age_20_24_players, 2)"
   ]
  },
  {
   "cell_type": "code",
   "execution_count": 18,
   "metadata": {},
   "outputs": [],
   "source": [
    "# Age 25-29\n",
    "age_25_29 = purchase_data.loc[(purchase_data[\"Age\"] >= 25) & (purchase_data[\"Age\"] <= 29),:]\n",
    "# 25-29 Purchase Count\n",
    "purchase_count_25_29 = age_25_29['Purchase ID'].nunique()\n",
    "# 25-29 Average Purchase Price\n",
    "avg_price_25_29 = round(age_25_29['Price'].mean(),2)\n",
    "# 25-29 Total Purchase Value\n",
    "total_purchases_25_29 = age_25_29['Price'].sum()\n",
    "# Calculate total players between 25-29\n",
    "age_25_29_players = age_25_29['SN'].nunique()\n",
    "# 25-29 Average Purchase Total per Person\n",
    "age_25_29_avg_per_person = round(total_purchases_25_29 / age_25_29_players, 2)"
   ]
  },
  {
   "cell_type": "code",
   "execution_count": 19,
   "metadata": {},
   "outputs": [],
   "source": [
    "# Age 30-34\n",
    "age_30_34 = purchase_data.loc[(purchase_data[\"Age\"] >= 30) & (purchase_data[\"Age\"] <= 34),:]\n",
    "# 30-34 Purchase Count\n",
    "purchase_count_30_34 = age_30_34['Purchase ID'].nunique()\n",
    "# 30-34 Average Purchase Price\n",
    "avg_price_30_34 = round(age_30_34['Price'].mean(),2)\n",
    "# 30-34 Total Purchase Value\n",
    "total_purchases_30_34 = age_30_34['Price'].sum()\n",
    "# Calculate total players between 30-34\n",
    "age_30_34_players = age_30_34['SN'].nunique()\n",
    "# 30-34 Average Purchase Total per Person\n",
    "age_30_34_avg_per_person = round(total_purchases_30_34 / age_30_34_players, 2)"
   ]
  },
  {
   "cell_type": "code",
   "execution_count": 20,
   "metadata": {},
   "outputs": [],
   "source": [
    "# Age 35-39\n",
    "age_35_39 = purchase_data.loc[(purchase_data[\"Age\"] >= 35) & (purchase_data[\"Age\"] <= 39),:]\n",
    "# 35-39 Purchase Count\n",
    "purchase_count_35_39 = age_35_39['Purchase ID'].nunique()\n",
    "# 35-39 Average Purchase Price\n",
    "avg_price_35_39 = round(age_35_39['Price'].mean(),2)\n",
    "# 35-39 Total Purchase Value\n",
    "total_purchases_35_39 = age_35_39['Price'].sum()\n",
    "# Calculate total players between 35-39\n",
    "age_35_39_players = age_35_39['SN'].nunique()\n",
    "# 35-39 Average Purchase Total per Person\n",
    "age_35_39_avg_per_person = round(total_purchases_35_39 / age_35_39_players, 2)"
   ]
  },
  {
   "cell_type": "code",
   "execution_count": 21,
   "metadata": {},
   "outputs": [],
   "source": [
    "# Age 40+\n",
    "age_40_plus = purchase_data.loc[purchase_data[\"Age\"] >= 40,:]\n",
    "# 40+ Purchase Count\n",
    "purchase_count_40_plus = age_40_plus['Purchase ID'].nunique()\n",
    "# 40+ Average Purchase Price\n",
    "avg_price_40_plus = round(age_40_plus['Price'].mean(),2)\n",
    "# 40+ Total Purchase Value\n",
    "total_purchases_40_plus = age_40_plus['Price'].sum()\n",
    "# Calculate total players between 40+\n",
    "age_40_plus_players = age_40_plus['SN'].nunique()\n",
    "# 40+ Average Purchase Total per Person\n",
    "age_40_plus_avg_per_person = round(total_purchases_40_plus / age_40_plus_players, 2)"
   ]
  },
  {
   "cell_type": "code",
   "execution_count": 22,
   "metadata": {},
   "outputs": [
    {
     "output_type": "execute_result",
     "data": {
      "text/plain": "<pandas.io.formats.style.Styler at 0x19002996ba8>",
      "text/html": "<style  type=\"text/css\" >\n</style><table id=\"T_964e2ea8_e63c_11ea_8fdc_3c58c2ce45e0\" ><thead>    <tr>        <th class=\"blank level0\" ></th>        <th class=\"col_heading level0 col0\" >Purchase Count</th>        <th class=\"col_heading level0 col1\" >Average Purchase Price</th>        <th class=\"col_heading level0 col2\" >Total Purchase Value</th>        <th class=\"col_heading level0 col3\" >Avg Total Purchase per Person</th>    </tr>    <tr>        <th class=\"index_name level0\" >Age Ranges</th>        <th class=\"blank\" ></th>        <th class=\"blank\" ></th>        <th class=\"blank\" ></th>        <th class=\"blank\" ></th>    </tr></thead><tbody>\n                <tr>\n                        <th id=\"T_964e2ea8_e63c_11ea_8fdc_3c58c2ce45e0level0_row0\" class=\"row_heading level0 row0\" ><10</th>\n                        <td id=\"T_964e2ea8_e63c_11ea_8fdc_3c58c2ce45e0row0_col0\" class=\"data row0 col0\" >23</td>\n                        <td id=\"T_964e2ea8_e63c_11ea_8fdc_3c58c2ce45e0row0_col1\" class=\"data row0 col1\" >$3.35</td>\n                        <td id=\"T_964e2ea8_e63c_11ea_8fdc_3c58c2ce45e0row0_col2\" class=\"data row0 col2\" >$77.13</td>\n                        <td id=\"T_964e2ea8_e63c_11ea_8fdc_3c58c2ce45e0row0_col3\" class=\"data row0 col3\" >$4.54</td>\n            </tr>\n            <tr>\n                        <th id=\"T_964e2ea8_e63c_11ea_8fdc_3c58c2ce45e0level0_row1\" class=\"row_heading level0 row1\" >10-14</th>\n                        <td id=\"T_964e2ea8_e63c_11ea_8fdc_3c58c2ce45e0row1_col0\" class=\"data row1 col0\" >28</td>\n                        <td id=\"T_964e2ea8_e63c_11ea_8fdc_3c58c2ce45e0row1_col1\" class=\"data row1 col1\" >$2.96</td>\n                        <td id=\"T_964e2ea8_e63c_11ea_8fdc_3c58c2ce45e0row1_col2\" class=\"data row1 col2\" >$82.78</td>\n                        <td id=\"T_964e2ea8_e63c_11ea_8fdc_3c58c2ce45e0row1_col3\" class=\"data row1 col3\" >$3.76</td>\n            </tr>\n            <tr>\n                        <th id=\"T_964e2ea8_e63c_11ea_8fdc_3c58c2ce45e0level0_row2\" class=\"row_heading level0 row2\" >15-19</th>\n                        <td id=\"T_964e2ea8_e63c_11ea_8fdc_3c58c2ce45e0row2_col0\" class=\"data row2 col0\" >136</td>\n                        <td id=\"T_964e2ea8_e63c_11ea_8fdc_3c58c2ce45e0row2_col1\" class=\"data row2 col1\" >$3.04</td>\n                        <td id=\"T_964e2ea8_e63c_11ea_8fdc_3c58c2ce45e0row2_col2\" class=\"data row2 col2\" >$412.89</td>\n                        <td id=\"T_964e2ea8_e63c_11ea_8fdc_3c58c2ce45e0row2_col3\" class=\"data row2 col3\" >$3.86</td>\n            </tr>\n            <tr>\n                        <th id=\"T_964e2ea8_e63c_11ea_8fdc_3c58c2ce45e0level0_row3\" class=\"row_heading level0 row3\" >20-24</th>\n                        <td id=\"T_964e2ea8_e63c_11ea_8fdc_3c58c2ce45e0row3_col0\" class=\"data row3 col0\" >365</td>\n                        <td id=\"T_964e2ea8_e63c_11ea_8fdc_3c58c2ce45e0row3_col1\" class=\"data row3 col1\" >$3.05</td>\n                        <td id=\"T_964e2ea8_e63c_11ea_8fdc_3c58c2ce45e0row3_col2\" class=\"data row3 col2\" >$1114.06</td>\n                        <td id=\"T_964e2ea8_e63c_11ea_8fdc_3c58c2ce45e0row3_col3\" class=\"data row3 col3\" >$4.32</td>\n            </tr>\n            <tr>\n                        <th id=\"T_964e2ea8_e63c_11ea_8fdc_3c58c2ce45e0level0_row4\" class=\"row_heading level0 row4\" >25-29</th>\n                        <td id=\"T_964e2ea8_e63c_11ea_8fdc_3c58c2ce45e0row4_col0\" class=\"data row4 col0\" >101</td>\n                        <td id=\"T_964e2ea8_e63c_11ea_8fdc_3c58c2ce45e0row4_col1\" class=\"data row4 col1\" >$2.90</td>\n                        <td id=\"T_964e2ea8_e63c_11ea_8fdc_3c58c2ce45e0row4_col2\" class=\"data row4 col2\" >$293.00</td>\n                        <td id=\"T_964e2ea8_e63c_11ea_8fdc_3c58c2ce45e0row4_col3\" class=\"data row4 col3\" >$3.81</td>\n            </tr>\n            <tr>\n                        <th id=\"T_964e2ea8_e63c_11ea_8fdc_3c58c2ce45e0level0_row5\" class=\"row_heading level0 row5\" >30-34</th>\n                        <td id=\"T_964e2ea8_e63c_11ea_8fdc_3c58c2ce45e0row5_col0\" class=\"data row5 col0\" >73</td>\n                        <td id=\"T_964e2ea8_e63c_11ea_8fdc_3c58c2ce45e0row5_col1\" class=\"data row5 col1\" >$2.93</td>\n                        <td id=\"T_964e2ea8_e63c_11ea_8fdc_3c58c2ce45e0row5_col2\" class=\"data row5 col2\" >$214.00</td>\n                        <td id=\"T_964e2ea8_e63c_11ea_8fdc_3c58c2ce45e0row5_col3\" class=\"data row5 col3\" >$4.12</td>\n            </tr>\n            <tr>\n                        <th id=\"T_964e2ea8_e63c_11ea_8fdc_3c58c2ce45e0level0_row6\" class=\"row_heading level0 row6\" >35-39</th>\n                        <td id=\"T_964e2ea8_e63c_11ea_8fdc_3c58c2ce45e0row6_col0\" class=\"data row6 col0\" >41</td>\n                        <td id=\"T_964e2ea8_e63c_11ea_8fdc_3c58c2ce45e0row6_col1\" class=\"data row6 col1\" >$3.60</td>\n                        <td id=\"T_964e2ea8_e63c_11ea_8fdc_3c58c2ce45e0row6_col2\" class=\"data row6 col2\" >$147.67</td>\n                        <td id=\"T_964e2ea8_e63c_11ea_8fdc_3c58c2ce45e0row6_col3\" class=\"data row6 col3\" >$4.76</td>\n            </tr>\n            <tr>\n                        <th id=\"T_964e2ea8_e63c_11ea_8fdc_3c58c2ce45e0level0_row7\" class=\"row_heading level0 row7\" >40+</th>\n                        <td id=\"T_964e2ea8_e63c_11ea_8fdc_3c58c2ce45e0row7_col0\" class=\"data row7 col0\" >13</td>\n                        <td id=\"T_964e2ea8_e63c_11ea_8fdc_3c58c2ce45e0row7_col1\" class=\"data row7 col1\" >$2.94</td>\n                        <td id=\"T_964e2ea8_e63c_11ea_8fdc_3c58c2ce45e0row7_col2\" class=\"data row7 col2\" >$38.24</td>\n                        <td id=\"T_964e2ea8_e63c_11ea_8fdc_3c58c2ce45e0row7_col3\" class=\"data row7 col3\" >$3.19</td>\n            </tr>\n    </tbody></table>"
     },
     "metadata": {},
     "execution_count": 22
    }
   ],
   "source": [
    "# Print output\n",
    "print_age_purchasing = pd.DataFrame({\n",
    "    \"Age Ranges\": bin_labels,\n",
    "    'Purchase Count': [purchase_count_less_10, purchase_count_10_14, purchase_count_15_19, purchase_count_20_24, purchase_count_25_29, purchase_count_30_34, purchase_count_35_39, purchase_count_40_plus],\n",
    "    'Average Purchase Price': [avg_price_less_10, avg_price_10_14, avg_price_15_19, avg_price_20_24, avg_price_25_29, avg_price_30_34, avg_price_35_39, avg_price_40_plus],\n",
    "    'Total Purchase Value': [total_purchases_less_10, total_purchases_10_14, total_purchases_15_19, total_purchases_20_24, total_purchases_25_29, total_purchases_30_34, total_purchases_35_39, total_purchases_40_plus],\n",
    "    'Avg Total Purchase per Person': [less_10_avg_per_person, age_10_14_avg_per_person, age_15_19_avg_per_person, age_20_24_avg_per_person, age_25_29_avg_per_person, age_30_34_avg_per_person, age_35_39_avg_per_person, age_40_plus_avg_per_person]\n",
    "    })\n",
    "# set index to genders to get rid of the index numbers\n",
    "print_age_purchasing = print_age_purchasing.set_index(\"Age Ranges\")\n",
    "# format the price columns as currency\n",
    "print_age_purchasing.style.format({'Average Purchase Price': '${:.2f}', 'Total Purchase Value': '${:.2f}', 'Avg Total Purchase per Person': '${:.2f}'})"
   ]
  },
  {
   "cell_type": "markdown",
   "metadata": {},
   "source": [
    "## Top Spenders"
   ]
  },
  {
   "cell_type": "markdown",
   "metadata": {},
   "source": [
    "* Run basic calculations to obtain the results in the table below\n",
    "\n",
    "\n",
    "* Create a summary data frame to hold the results\n",
    "\n",
    "\n",
    "* Sort the total purchase value column in descending order\n",
    "\n",
    "\n",
    "* Optional: give the displayed data cleaner formatting\n",
    "\n",
    "\n",
    "* Display a preview of the summary data frame\n",
    "\n"
   ]
  },
  {
   "cell_type": "code",
   "execution_count": 28,
   "metadata": {},
   "outputs": [
    {
     "output_type": "execute_result",
     "data": {
      "text/plain": "             Purchase Count  Average Purchase Price  Total Purchase Value\nSN                                                                       \nLisosia93                 5                    3.79                 18.96\nIdastidru52               4                    3.86                 15.45\nChamjask73                3                    4.61                 13.83\nIral74                    4                    3.40                 13.62\nIskadarya95               3                    4.37                 13.10",
      "text/html": "<div>\n<style scoped>\n    .dataframe tbody tr th:only-of-type {\n        vertical-align: middle;\n    }\n\n    .dataframe tbody tr th {\n        vertical-align: top;\n    }\n\n    .dataframe thead th {\n        text-align: right;\n    }\n</style>\n<table border=\"1\" class=\"dataframe\">\n  <thead>\n    <tr style=\"text-align: right;\">\n      <th></th>\n      <th>Purchase Count</th>\n      <th>Average Purchase Price</th>\n      <th>Total Purchase Value</th>\n    </tr>\n    <tr>\n      <th>SN</th>\n      <th></th>\n      <th></th>\n      <th></th>\n    </tr>\n  </thead>\n  <tbody>\n    <tr>\n      <th>Lisosia93</th>\n      <td>5</td>\n      <td>3.79</td>\n      <td>18.96</td>\n    </tr>\n    <tr>\n      <th>Idastidru52</th>\n      <td>4</td>\n      <td>3.86</td>\n      <td>15.45</td>\n    </tr>\n    <tr>\n      <th>Chamjask73</th>\n      <td>3</td>\n      <td>4.61</td>\n      <td>13.83</td>\n    </tr>\n    <tr>\n      <th>Iral74</th>\n      <td>4</td>\n      <td>3.40</td>\n      <td>13.62</td>\n    </tr>\n    <tr>\n      <th>Iskadarya95</th>\n      <td>3</td>\n      <td>4.37</td>\n      <td>13.10</td>\n    </tr>\n  </tbody>\n</table>\n</div>"
     },
     "metadata": {},
     "execution_count": 28
    }
   ],
   "source": [
    "# Create dataframe to hold count of spenders\n",
    "count_spenders = pd.DataFrame(purchase_data.groupby('SN').count())\n",
    "# create dataframe to sum purchase data grouped by spender\n",
    "top_spenders_df = pd.DataFrame(purchase_data.groupby('SN').sum())\n",
    "# sort dataframe by Price desc\n",
    "top_spenders_df = top_spenders_df.sort_values(\"Price\", ascending=False)\n",
    "# add purchase count column\n",
    "top_spenders_df['Purchase Count'] = count_spenders['Item ID']\n",
    "# Calculate average purchase price per spender\n",
    "top_spenders_df['Average Purchase Price'] = round(top_spenders_df['Price'] / top_spenders_df['Purchase Count'],2)\n",
    "# Rename price column to total purchase value\n",
    "top_spenders_df.rename(columns={'Price': 'Total Purchase Value'}, inplace=True)\n",
    "# remove unwanted columns\n",
    "top_spenders_df = top_spenders_df.loc[:,['Purchase Count', 'Average Purchase Price', 'Total Purchase Value']]\n",
    "# format columns as currency\n",
    "top_spenders_df.style.format({'Average Purchase Price': '${:.2f}', 'Total Purchase Value': '${:.2f}'})\n",
    "# Print top 5\n",
    "top_spenders_df.head()"
   ]
  },
  {
   "cell_type": "code",
   "execution_count": 8,
   "metadata": {},
   "outputs": [
    {
     "data": {
      "text/html": [
       "<div>\n",
       "<style scoped>\n",
       "    .dataframe tbody tr th:only-of-type {\n",
       "        vertical-align: middle;\n",
       "    }\n",
       "\n",
       "    .dataframe tbody tr th {\n",
       "        vertical-align: top;\n",
       "    }\n",
       "\n",
       "    .dataframe thead th {\n",
       "        text-align: right;\n",
       "    }\n",
       "</style>\n",
       "<table border=\"1\" class=\"dataframe\">\n",
       "  <thead>\n",
       "    <tr style=\"text-align: right;\">\n",
       "      <th></th>\n",
       "      <th>Purchase Count</th>\n",
       "      <th>Average Purchase Price</th>\n",
       "      <th>Total Purchase Value</th>\n",
       "    </tr>\n",
       "    <tr>\n",
       "      <th>SN</th>\n",
       "      <th></th>\n",
       "      <th></th>\n",
       "      <th></th>\n",
       "    </tr>\n",
       "  </thead>\n",
       "  <tbody>\n",
       "    <tr>\n",
       "      <th>Lisosia93</th>\n",
       "      <td>5</td>\n",
       "      <td>$3.79</td>\n",
       "      <td>$18.96</td>\n",
       "    </tr>\n",
       "    <tr>\n",
       "      <th>Idastidru52</th>\n",
       "      <td>4</td>\n",
       "      <td>$3.86</td>\n",
       "      <td>$15.45</td>\n",
       "    </tr>\n",
       "    <tr>\n",
       "      <th>Chamjask73</th>\n",
       "      <td>3</td>\n",
       "      <td>$4.61</td>\n",
       "      <td>$13.83</td>\n",
       "    </tr>\n",
       "    <tr>\n",
       "      <th>Iral74</th>\n",
       "      <td>4</td>\n",
       "      <td>$3.40</td>\n",
       "      <td>$13.62</td>\n",
       "    </tr>\n",
       "    <tr>\n",
       "      <th>Iskadarya95</th>\n",
       "      <td>3</td>\n",
       "      <td>$4.37</td>\n",
       "      <td>$13.10</td>\n",
       "    </tr>\n",
       "  </tbody>\n",
       "</table>\n",
       "</div>"
      ],
      "text/plain": [
       "             Purchase Count Average Purchase Price Total Purchase Value\n",
       "SN                                                                     \n",
       "Lisosia93                 5                  $3.79               $18.96\n",
       "Idastidru52               4                  $3.86               $15.45\n",
       "Chamjask73                3                  $4.61               $13.83\n",
       "Iral74                    4                  $3.40               $13.62\n",
       "Iskadarya95               3                  $4.37               $13.10"
      ]
     },
     "execution_count": 8,
     "metadata": {},
     "output_type": "execute_result"
    }
   ],
   "source": []
  },
  {
   "cell_type": "markdown",
   "metadata": {},
   "source": [
    "## Most Popular Items"
   ]
  },
  {
   "cell_type": "markdown",
   "metadata": {},
   "source": [
    "* Retrieve the Item ID, Item Name, and Item Price columns\n",
    "\n",
    "\n",
    "* Group by Item ID and Item Name. Perform calculations to obtain purchase count, item price, and total purchase value\n",
    "\n",
    "\n",
    "* Create a summary data frame to hold the results\n",
    "\n",
    "\n",
    "* Sort the purchase count column in descending order\n",
    "\n",
    "\n",
    "* Optional: give the displayed data cleaner formatting\n",
    "\n",
    "\n",
    "* Display a preview of the summary data frame\n",
    "\n"
   ]
  },
  {
   "cell_type": "code",
   "execution_count": null,
   "metadata": {},
   "outputs": [],
   "source": []
  },
  {
   "cell_type": "code",
   "execution_count": 9,
   "metadata": {},
   "outputs": [
    {
     "data": {
      "text/html": [
       "<div>\n",
       "<style scoped>\n",
       "    .dataframe tbody tr th:only-of-type {\n",
       "        vertical-align: middle;\n",
       "    }\n",
       "\n",
       "    .dataframe tbody tr th {\n",
       "        vertical-align: top;\n",
       "    }\n",
       "\n",
       "    .dataframe thead th {\n",
       "        text-align: right;\n",
       "    }\n",
       "</style>\n",
       "<table border=\"1\" class=\"dataframe\">\n",
       "  <thead>\n",
       "    <tr style=\"text-align: right;\">\n",
       "      <th></th>\n",
       "      <th></th>\n",
       "      <th>Purchase Count</th>\n",
       "      <th>Item Price</th>\n",
       "      <th>Total Purchase Value</th>\n",
       "    </tr>\n",
       "    <tr>\n",
       "      <th>Item ID</th>\n",
       "      <th>Item Name</th>\n",
       "      <th></th>\n",
       "      <th></th>\n",
       "      <th></th>\n",
       "    </tr>\n",
       "  </thead>\n",
       "  <tbody>\n",
       "    <tr>\n",
       "      <th>92</th>\n",
       "      <th>Final Critic</th>\n",
       "      <td>13</td>\n",
       "      <td>$4.61</td>\n",
       "      <td>$59.99</td>\n",
       "    </tr>\n",
       "    <tr>\n",
       "      <th>178</th>\n",
       "      <th>Oathbreaker, Last Hope of the Breaking Storm</th>\n",
       "      <td>12</td>\n",
       "      <td>$4.23</td>\n",
       "      <td>$50.76</td>\n",
       "    </tr>\n",
       "    <tr>\n",
       "      <th>145</th>\n",
       "      <th>Fiery Glass Crusader</th>\n",
       "      <td>9</td>\n",
       "      <td>$4.58</td>\n",
       "      <td>$41.22</td>\n",
       "    </tr>\n",
       "    <tr>\n",
       "      <th>132</th>\n",
       "      <th>Persuasion</th>\n",
       "      <td>9</td>\n",
       "      <td>$3.22</td>\n",
       "      <td>$28.99</td>\n",
       "    </tr>\n",
       "    <tr>\n",
       "      <th>108</th>\n",
       "      <th>Extraction, Quickblade Of Trembling Hands</th>\n",
       "      <td>9</td>\n",
       "      <td>$3.53</td>\n",
       "      <td>$31.77</td>\n",
       "    </tr>\n",
       "  </tbody>\n",
       "</table>\n",
       "</div>"
      ],
      "text/plain": [
       "                                                     Purchase Count  \\\n",
       "Item ID Item Name                                                     \n",
       "92      Final Critic                                             13   \n",
       "178     Oathbreaker, Last Hope of the Breaking Storm             12   \n",
       "145     Fiery Glass Crusader                                      9   \n",
       "132     Persuasion                                                9   \n",
       "108     Extraction, Quickblade Of Trembling Hands                 9   \n",
       "\n",
       "                                                     Item Price  \\\n",
       "Item ID Item Name                                                 \n",
       "92      Final Critic                                      $4.61   \n",
       "178     Oathbreaker, Last Hope of the Breaking Storm      $4.23   \n",
       "145     Fiery Glass Crusader                              $4.58   \n",
       "132     Persuasion                                        $3.22   \n",
       "108     Extraction, Quickblade Of Trembling Hands         $3.53   \n",
       "\n",
       "                                                     Total Purchase Value  \n",
       "Item ID Item Name                                                          \n",
       "92      Final Critic                                               $59.99  \n",
       "178     Oathbreaker, Last Hope of the Breaking Storm               $50.76  \n",
       "145     Fiery Glass Crusader                                       $41.22  \n",
       "132     Persuasion                                                 $28.99  \n",
       "108     Extraction, Quickblade Of Trembling Hands                  $31.77  "
      ]
     },
     "execution_count": 9,
     "metadata": {},
     "output_type": "execute_result"
    }
   ],
   "source": []
  },
  {
   "cell_type": "markdown",
   "metadata": {},
   "source": [
    "## Most Profitable Items"
   ]
  },
  {
   "cell_type": "markdown",
   "metadata": {},
   "source": [
    "* Sort the above table by total purchase value in descending order\n",
    "\n",
    "\n",
    "* Optional: give the displayed data cleaner formatting\n",
    "\n",
    "\n",
    "* Display a preview of the data frame\n",
    "\n"
   ]
  },
  {
   "cell_type": "code",
   "execution_count": 10,
   "metadata": {
    "scrolled": true
   },
   "outputs": [
    {
     "data": {
      "text/html": [
       "<div>\n",
       "<style scoped>\n",
       "    .dataframe tbody tr th:only-of-type {\n",
       "        vertical-align: middle;\n",
       "    }\n",
       "\n",
       "    .dataframe tbody tr th {\n",
       "        vertical-align: top;\n",
       "    }\n",
       "\n",
       "    .dataframe thead th {\n",
       "        text-align: right;\n",
       "    }\n",
       "</style>\n",
       "<table border=\"1\" class=\"dataframe\">\n",
       "  <thead>\n",
       "    <tr style=\"text-align: right;\">\n",
       "      <th></th>\n",
       "      <th></th>\n",
       "      <th>Purchase Count</th>\n",
       "      <th>Item Price</th>\n",
       "      <th>Total Purchase Value</th>\n",
       "    </tr>\n",
       "    <tr>\n",
       "      <th>Item ID</th>\n",
       "      <th>Item Name</th>\n",
       "      <th></th>\n",
       "      <th></th>\n",
       "      <th></th>\n",
       "    </tr>\n",
       "  </thead>\n",
       "  <tbody>\n",
       "    <tr>\n",
       "      <th>92</th>\n",
       "      <th>Final Critic</th>\n",
       "      <td>13</td>\n",
       "      <td>$4.61</td>\n",
       "      <td>$59.99</td>\n",
       "    </tr>\n",
       "    <tr>\n",
       "      <th>178</th>\n",
       "      <th>Oathbreaker, Last Hope of the Breaking Storm</th>\n",
       "      <td>12</td>\n",
       "      <td>$4.23</td>\n",
       "      <td>$50.76</td>\n",
       "    </tr>\n",
       "    <tr>\n",
       "      <th>82</th>\n",
       "      <th>Nirvana</th>\n",
       "      <td>9</td>\n",
       "      <td>$4.90</td>\n",
       "      <td>$44.10</td>\n",
       "    </tr>\n",
       "    <tr>\n",
       "      <th>145</th>\n",
       "      <th>Fiery Glass Crusader</th>\n",
       "      <td>9</td>\n",
       "      <td>$4.58</td>\n",
       "      <td>$41.22</td>\n",
       "    </tr>\n",
       "    <tr>\n",
       "      <th>103</th>\n",
       "      <th>Singed Scalpel</th>\n",
       "      <td>8</td>\n",
       "      <td>$4.35</td>\n",
       "      <td>$34.80</td>\n",
       "    </tr>\n",
       "  </tbody>\n",
       "</table>\n",
       "</div>"
      ],
      "text/plain": [
       "                                                     Purchase Count  \\\n",
       "Item ID Item Name                                                     \n",
       "92      Final Critic                                             13   \n",
       "178     Oathbreaker, Last Hope of the Breaking Storm             12   \n",
       "82      Nirvana                                                   9   \n",
       "145     Fiery Glass Crusader                                      9   \n",
       "103     Singed Scalpel                                            8   \n",
       "\n",
       "                                                     Item Price  \\\n",
       "Item ID Item Name                                                 \n",
       "92      Final Critic                                      $4.61   \n",
       "178     Oathbreaker, Last Hope of the Breaking Storm      $4.23   \n",
       "82      Nirvana                                           $4.90   \n",
       "145     Fiery Glass Crusader                              $4.58   \n",
       "103     Singed Scalpel                                    $4.35   \n",
       "\n",
       "                                                     Total Purchase Value  \n",
       "Item ID Item Name                                                          \n",
       "92      Final Critic                                               $59.99  \n",
       "178     Oathbreaker, Last Hope of the Breaking Storm               $50.76  \n",
       "82      Nirvana                                                    $44.10  \n",
       "145     Fiery Glass Crusader                                       $41.22  \n",
       "103     Singed Scalpel                                             $34.80  "
      ]
     },
     "execution_count": 10,
     "metadata": {},
     "output_type": "execute_result"
    }
   ],
   "source": []
  }
 ],
 "metadata": {
  "anaconda-cloud": {},
  "kernel_info": {
   "name": "python3"
  },
  "kernelspec": {
   "display_name": "Python 3.6.10 64-bit ('bcs': conda)",
   "language": "python",
   "name": "python_defaultSpec_1598284290505"
  },
  "language_info": {
   "codemirror_mode": {
    "name": "ipython",
    "version": 3
   },
   "file_extension": ".py",
   "mimetype": "text/x-python",
   "name": "python",
   "nbconvert_exporter": "python",
   "pygments_lexer": "ipython3",
   "version": "3.6.10-final"
  },
  "latex_envs": {
   "LaTeX_envs_menu_present": true,
   "autoclose": false,
   "autocomplete": true,
   "bibliofile": "biblio.bib",
   "cite_by": "apalike",
   "current_citInitial": 1,
   "eqLabelWithNumbers": true,
   "eqNumInitial": 1,
   "hotkeys": {
    "equation": "Ctrl-E",
    "itemize": "Ctrl-I"
   },
   "labels_anchors": false,
   "latex_user_defs": false,
   "report_style_numbering": false,
   "user_envs_cfg": false
  },
  "nteract": {
   "version": "0.2.0"
  }
 },
 "nbformat": 4,
 "nbformat_minor": 2
}